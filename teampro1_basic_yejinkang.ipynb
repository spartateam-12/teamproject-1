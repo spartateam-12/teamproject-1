{
 "cells": [
  {
   "cell_type": "code",
   "execution_count": 1,
   "id": "5d97f05c-d5e7-4bcd-94e1-30ce3d6d0571",
   "metadata": {},
   "outputs": [],
   "source": [
    "import pandas as pd\n",
    "import numpy as np"
   ]
  },
  {
   "cell_type": "markdown",
   "id": "cc0684e0-a42d-432b-a669-08a418cd5c42",
   "metadata": {},
   "source": [
    "1. 데이터 셋 불러오기\n",
    "   seaborn 라이브러리에 있는 titanic 데이터를 불러옵니다."
   ]
  },
  {
   "cell_type": "code",
   "execution_count": 2,
   "id": "244a9aff-470b-4fd3-af3c-20ab8dcf165f",
   "metadata": {},
   "outputs": [],
   "source": [
    "import seaborn as sns\n",
    "\n",
    "titanic = sns.load_dataset('titanic')"
   ]
  },
  {
   "cell_type": "markdown",
   "id": "1a2124f3-745f-413c-bdc5-5809b84863ef",
   "metadata": {},
   "source": [
    "2. feature 분석\n",
    "   데이터를 잘 불러오셨다면 해당 데이터의 feature를 파악해야합니다. 데이터의 feature를 파악하기 위해 아래의 다양한 feature 분석을 수행해주세요. "
   ]
  },
  {
   "cell_type": "code",
   "execution_count": 3,
   "id": "1c597050-c87b-461b-af84-1effe77468e8",
   "metadata": {},
   "outputs": [
    {
     "data": {
      "text/html": [
       "<div>\n",
       "<style scoped>\n",
       "    .dataframe tbody tr th:only-of-type {\n",
       "        vertical-align: middle;\n",
       "    }\n",
       "\n",
       "    .dataframe tbody tr th {\n",
       "        vertical-align: top;\n",
       "    }\n",
       "\n",
       "    .dataframe thead th {\n",
       "        text-align: right;\n",
       "    }\n",
       "</style>\n",
       "<table border=\"1\" class=\"dataframe\">\n",
       "  <thead>\n",
       "    <tr style=\"text-align: right;\">\n",
       "      <th></th>\n",
       "      <th>survived</th>\n",
       "      <th>pclass</th>\n",
       "      <th>sex</th>\n",
       "      <th>age</th>\n",
       "      <th>sibsp</th>\n",
       "      <th>parch</th>\n",
       "      <th>fare</th>\n",
       "      <th>embarked</th>\n",
       "      <th>class</th>\n",
       "      <th>who</th>\n",
       "      <th>adult_male</th>\n",
       "      <th>deck</th>\n",
       "      <th>embark_town</th>\n",
       "      <th>alive</th>\n",
       "      <th>alone</th>\n",
       "    </tr>\n",
       "  </thead>\n",
       "  <tbody>\n",
       "    <tr>\n",
       "      <th>0</th>\n",
       "      <td>0</td>\n",
       "      <td>3</td>\n",
       "      <td>male</td>\n",
       "      <td>22.0</td>\n",
       "      <td>1</td>\n",
       "      <td>0</td>\n",
       "      <td>7.2500</td>\n",
       "      <td>S</td>\n",
       "      <td>Third</td>\n",
       "      <td>man</td>\n",
       "      <td>True</td>\n",
       "      <td>NaN</td>\n",
       "      <td>Southampton</td>\n",
       "      <td>no</td>\n",
       "      <td>False</td>\n",
       "    </tr>\n",
       "    <tr>\n",
       "      <th>1</th>\n",
       "      <td>1</td>\n",
       "      <td>1</td>\n",
       "      <td>female</td>\n",
       "      <td>38.0</td>\n",
       "      <td>1</td>\n",
       "      <td>0</td>\n",
       "      <td>71.2833</td>\n",
       "      <td>C</td>\n",
       "      <td>First</td>\n",
       "      <td>woman</td>\n",
       "      <td>False</td>\n",
       "      <td>C</td>\n",
       "      <td>Cherbourg</td>\n",
       "      <td>yes</td>\n",
       "      <td>False</td>\n",
       "    </tr>\n",
       "    <tr>\n",
       "      <th>2</th>\n",
       "      <td>1</td>\n",
       "      <td>3</td>\n",
       "      <td>female</td>\n",
       "      <td>26.0</td>\n",
       "      <td>0</td>\n",
       "      <td>0</td>\n",
       "      <td>7.9250</td>\n",
       "      <td>S</td>\n",
       "      <td>Third</td>\n",
       "      <td>woman</td>\n",
       "      <td>False</td>\n",
       "      <td>NaN</td>\n",
       "      <td>Southampton</td>\n",
       "      <td>yes</td>\n",
       "      <td>True</td>\n",
       "    </tr>\n",
       "    <tr>\n",
       "      <th>3</th>\n",
       "      <td>1</td>\n",
       "      <td>1</td>\n",
       "      <td>female</td>\n",
       "      <td>35.0</td>\n",
       "      <td>1</td>\n",
       "      <td>0</td>\n",
       "      <td>53.1000</td>\n",
       "      <td>S</td>\n",
       "      <td>First</td>\n",
       "      <td>woman</td>\n",
       "      <td>False</td>\n",
       "      <td>C</td>\n",
       "      <td>Southampton</td>\n",
       "      <td>yes</td>\n",
       "      <td>False</td>\n",
       "    </tr>\n",
       "    <tr>\n",
       "      <th>4</th>\n",
       "      <td>0</td>\n",
       "      <td>3</td>\n",
       "      <td>male</td>\n",
       "      <td>35.0</td>\n",
       "      <td>0</td>\n",
       "      <td>0</td>\n",
       "      <td>8.0500</td>\n",
       "      <td>S</td>\n",
       "      <td>Third</td>\n",
       "      <td>man</td>\n",
       "      <td>True</td>\n",
       "      <td>NaN</td>\n",
       "      <td>Southampton</td>\n",
       "      <td>no</td>\n",
       "      <td>True</td>\n",
       "    </tr>\n",
       "  </tbody>\n",
       "</table>\n",
       "</div>"
      ],
      "text/plain": [
       "   survived  pclass     sex   age  sibsp  parch     fare embarked  class  \\\n",
       "0         0       3    male  22.0      1      0   7.2500        S  Third   \n",
       "1         1       1  female  38.0      1      0  71.2833        C  First   \n",
       "2         1       3  female  26.0      0      0   7.9250        S  Third   \n",
       "3         1       1  female  35.0      1      0  53.1000        S  First   \n",
       "4         0       3    male  35.0      0      0   8.0500        S  Third   \n",
       "\n",
       "     who  adult_male deck  embark_town alive  alone  \n",
       "0    man        True  NaN  Southampton    no  False  \n",
       "1  woman       False    C    Cherbourg   yes  False  \n",
       "2  woman       False  NaN  Southampton   yes   True  \n",
       "3  woman       False    C  Southampton   yes  False  \n",
       "4    man        True  NaN  Southampton    no   True  "
      ]
     },
     "execution_count": 3,
     "metadata": {},
     "output_type": "execute_result"
    }
   ],
   "source": [
    "# 2-1. head 함수를 이용해 데이터 프레임의 첫 5행을 출력하여 어떤 feature들이 있는지 확인해주세요. \n",
    "titanic.head()"
   ]
  },
  {
   "cell_type": "code",
   "execution_count": 4,
   "id": "71124624-6533-439c-b2e8-289d00a8dc87",
   "metadata": {},
   "outputs": [
    {
     "data": {
      "text/html": [
       "<div>\n",
       "<style scoped>\n",
       "    .dataframe tbody tr th:only-of-type {\n",
       "        vertical-align: middle;\n",
       "    }\n",
       "\n",
       "    .dataframe tbody tr th {\n",
       "        vertical-align: top;\n",
       "    }\n",
       "\n",
       "    .dataframe thead th {\n",
       "        text-align: right;\n",
       "    }\n",
       "</style>\n",
       "<table border=\"1\" class=\"dataframe\">\n",
       "  <thead>\n",
       "    <tr style=\"text-align: right;\">\n",
       "      <th></th>\n",
       "      <th>survived</th>\n",
       "      <th>pclass</th>\n",
       "      <th>age</th>\n",
       "      <th>sibsp</th>\n",
       "      <th>parch</th>\n",
       "      <th>fare</th>\n",
       "    </tr>\n",
       "  </thead>\n",
       "  <tbody>\n",
       "    <tr>\n",
       "      <th>count</th>\n",
       "      <td>891.000000</td>\n",
       "      <td>891.000000</td>\n",
       "      <td>714.000000</td>\n",
       "      <td>891.000000</td>\n",
       "      <td>891.000000</td>\n",
       "      <td>891.000000</td>\n",
       "    </tr>\n",
       "    <tr>\n",
       "      <th>mean</th>\n",
       "      <td>0.383838</td>\n",
       "      <td>2.308642</td>\n",
       "      <td>29.699118</td>\n",
       "      <td>0.523008</td>\n",
       "      <td>0.381594</td>\n",
       "      <td>32.204208</td>\n",
       "    </tr>\n",
       "    <tr>\n",
       "      <th>std</th>\n",
       "      <td>0.486592</td>\n",
       "      <td>0.836071</td>\n",
       "      <td>14.526497</td>\n",
       "      <td>1.102743</td>\n",
       "      <td>0.806057</td>\n",
       "      <td>49.693429</td>\n",
       "    </tr>\n",
       "    <tr>\n",
       "      <th>min</th>\n",
       "      <td>0.000000</td>\n",
       "      <td>1.000000</td>\n",
       "      <td>0.420000</td>\n",
       "      <td>0.000000</td>\n",
       "      <td>0.000000</td>\n",
       "      <td>0.000000</td>\n",
       "    </tr>\n",
       "    <tr>\n",
       "      <th>25%</th>\n",
       "      <td>0.000000</td>\n",
       "      <td>2.000000</td>\n",
       "      <td>20.125000</td>\n",
       "      <td>0.000000</td>\n",
       "      <td>0.000000</td>\n",
       "      <td>7.910400</td>\n",
       "    </tr>\n",
       "    <tr>\n",
       "      <th>50%</th>\n",
       "      <td>0.000000</td>\n",
       "      <td>3.000000</td>\n",
       "      <td>28.000000</td>\n",
       "      <td>0.000000</td>\n",
       "      <td>0.000000</td>\n",
       "      <td>14.454200</td>\n",
       "    </tr>\n",
       "    <tr>\n",
       "      <th>75%</th>\n",
       "      <td>1.000000</td>\n",
       "      <td>3.000000</td>\n",
       "      <td>38.000000</td>\n",
       "      <td>1.000000</td>\n",
       "      <td>0.000000</td>\n",
       "      <td>31.000000</td>\n",
       "    </tr>\n",
       "    <tr>\n",
       "      <th>max</th>\n",
       "      <td>1.000000</td>\n",
       "      <td>3.000000</td>\n",
       "      <td>80.000000</td>\n",
       "      <td>8.000000</td>\n",
       "      <td>6.000000</td>\n",
       "      <td>512.329200</td>\n",
       "    </tr>\n",
       "  </tbody>\n",
       "</table>\n",
       "</div>"
      ],
      "text/plain": [
       "         survived      pclass         age       sibsp       parch        fare\n",
       "count  891.000000  891.000000  714.000000  891.000000  891.000000  891.000000\n",
       "mean     0.383838    2.308642   29.699118    0.523008    0.381594   32.204208\n",
       "std      0.486592    0.836071   14.526497    1.102743    0.806057   49.693429\n",
       "min      0.000000    1.000000    0.420000    0.000000    0.000000    0.000000\n",
       "25%      0.000000    2.000000   20.125000    0.000000    0.000000    7.910400\n",
       "50%      0.000000    3.000000   28.000000    0.000000    0.000000   14.454200\n",
       "75%      1.000000    3.000000   38.000000    1.000000    0.000000   31.000000\n",
       "max      1.000000    3.000000   80.000000    8.000000    6.000000  512.329200"
      ]
     },
     "execution_count": 4,
     "metadata": {},
     "output_type": "execute_result"
    }
   ],
   "source": [
    "# 2-2. describe 함수를 통해서 기본적인 통계를 확인해주세요. \n",
    "titanic.describe()"
   ]
  },
  {
   "cell_type": "markdown",
   "id": "adcb0d03-3464-4b03-9d65-d2fda23d5064",
   "metadata": {},
   "source": [
    "**2-3. describe 함수를 통해 확인할 수 있는 count, std, min, 25%, 50%, 75%, max 가 각각 무슨 뜻인지 주석 혹은 markdown 블록으로 간단히 설명해주세요.**\n",
    "count: 각 열의 유효한 데이터 갯수. 이 값이 작은 열은 결측치가 많다는 것을 알 수 있다. 여기서는 age 열이 결측치가 많다. \n",
    "std: 표준편차. 데이터의 흩어짐을 나타내는거고, 이 값이 클수록 데이터가 넓게 퍼져있다\n",
    "min: 열의 최솟값\n",
    "25%: 1사분위수, 데이터의 하위 25%에 해당하는 값이다. \n",
    "50%: median(중앙값). 데이터의 중간값이다. \n",
    "75% 3사분위수로, 데이터의 상위 25%에 해당하는 값이다. \n",
    "max: 열의 최댓값\n",
    "\n",
    "[추가 설명]\n",
    "survived에서 0은 사망 1은 생존이다. 이건 titanic 데이터셋의 설명이나 공식 문서에 명시되어있는 정보인데,\n",
    "이를 토대로 해석해보자면 승객 중 절반(50%)이상은 사망하였고, 전체 승객의 3사분위수(상위 25%)의 일부는 생존했음을 알 수 있다.\n",
    "\n",
    "pclass는 승객의 좌석 등급을 나타내는 변수이다. 이 변수는 1,2,3 세 가지 값으로 구성되어 있으며, 각각 다음을 의미한다.\n",
    "1: 1등석  2: 2등석  3: 3등석\n",
    "sibsp: sibling and spuse (형제자매 및 배우자의 수를 나타냄)\n",
    "parch: parent and child (부모 및 자녀의 수)\n",
    "fare: 운임 요금\n"
   ]
  },
  {
   "cell_type": "code",
   "execution_count": 5,
   "id": "07fadd15-a04a-4287-806a-496b66b0acee",
   "metadata": {},
   "outputs": [
    {
     "name": "stdout",
     "output_type": "stream",
     "text": [
      "pclass\n",
      "1    0.629630\n",
      "2    0.472826\n",
      "3    0.242363\n",
      "Name: survived, dtype: float64\n"
     ]
    }
   ],
   "source": [
    "# pclass별 생존율 계산 (이건 공부하다가 궁금해서 해봤습니다.)\n",
    "# 상대적으로 1등석 승객의 생존율이 높았음\n",
    "pclass_survival = titanic.groupby('pclass')['survived'].mean()\n",
    "print(pclass_survival)\n"
   ]
  },
  {
   "cell_type": "code",
   "execution_count": 6,
   "id": "6dc3f602-ccf7-4879-b858-3ced27a64b02",
   "metadata": {},
   "outputs": [
    {
     "name": "stdout",
     "output_type": "stream",
     "text": [
      "survived         0\n",
      "pclass           0\n",
      "sex              0\n",
      "age            177\n",
      "sibsp            0\n",
      "parch            0\n",
      "fare             0\n",
      "embarked         2\n",
      "class            0\n",
      "who              0\n",
      "adult_male       0\n",
      "deck           688\n",
      "embark_town      2\n",
      "alive            0\n",
      "alone            0\n",
      "dtype: int64\n"
     ]
    }
   ],
   "source": [
    "# 2-4. isnull() 함수와 sum() 함수를 이용해 각 열의 결측치 갯수를 확인해주세요.\n",
    "print(titanic.isnull().sum())"
   ]
  },
  {
   "cell_type": "markdown",
   "id": "440d3c50-a16d-4e25-a0da-65feef24cc05",
   "metadata": {},
   "source": [
    "**3. feature engineering**\n",
    "   feature engineering은 모델의 성능을 향상시키기 위해 중요한 단계입니다. 2번 feature 분석에서 얻은 데이터에 대한 이해를 바탕으로 아래의 feature engineering을 수행해주세요. "
   ]
  },
  {
   "cell_type": "markdown",
   "id": "0831fa0e-85a4-43de-af3e-59996974b749",
   "metadata": {},
   "source": [
    "**3-1. 결측치 처리**\n",
    "Age(나이)의 결측치는 중앙값으로, Embarked(승선 항구)의 결측치는 최빈값으로 대체해주세요. \n",
    "모두 대체한 후에, 대체 결과를 isnull() 함수와 sum()  함수를 이용해서 확인해주세요. "
   ]
  },
  {
   "cell_type": "code",
   "execution_count": 7,
   "id": "540b732f-0f32-42fe-8509-41e02c45d5b6",
   "metadata": {},
   "outputs": [
    {
     "name": "stdout",
     "output_type": "stream",
     "text": [
      "0\n",
      "0\n"
     ]
    }
   ],
   "source": [
    "titanic['age'].fillna(titanic['age'].median(), inplace=True)\n",
    "titanic['embarked'].fillna(titanic['embarked'].mode()[0], inplace=True)\n",
    "\n",
    "print(titanic['age'].isnull().sum())\n",
    "print(titanic['embarked'].isnull().sum())"
   ]
  },
  {
   "cell_type": "markdown",
   "id": "d0118e60-4a88-4fce-b516-c38eb852a24f",
   "metadata": {},
   "source": [
    "**3-2. 수치형으로 인코딩**\n",
    "Sex(성별)를 남자는 0, 여자는 1로 변환해주세요. alive(생존여부)를 yes는 1, no는 0으로 변환해주세요. \n",
    "Embarked(승선 항구)는 ‘C’는 0으로, Q는 1으로, ‘S’는 2로 변환해주세요. 모두 변환한 후에, 변환 결과를 head 함수를 이용해 확인해주세요. "
   ]
  },
  {
   "cell_type": "code",
   "execution_count": 8,
   "id": "512c26f9-3d95-454d-aa73-965105ce6105",
   "metadata": {},
   "outputs": [
    {
     "name": "stdout",
     "output_type": "stream",
     "text": [
      "0    0\n",
      "1    1\n",
      "2    1\n",
      "3    1\n",
      "4    0\n",
      "Name: sex, dtype: int64\n",
      "0    0\n",
      "1    1\n",
      "2    1\n",
      "3    1\n",
      "4    0\n",
      "Name: alive, dtype: int64\n",
      "0    2\n",
      "1    0\n",
      "2    2\n",
      "3    2\n",
      "4    2\n",
      "Name: embarked, dtype: int64\n"
     ]
    }
   ],
   "source": [
    "titanic['sex'] = titanic['sex'].map({'male': 0, 'female': 1})\n",
    "titanic['alive'] = titanic['alive'].map({'yes': 1, 'no': 0})\n",
    "titanic['embarked'] = titanic['embarked'].map({'C': 0, 'Q': 1, 'S': 2,})\n",
    "\n",
    "print(titanic['sex'].head())\n",
    "print(titanic['alive'].head())\n",
    "print(titanic['embarked'].head())"
   ]
  },
  {
   "cell_type": "markdown",
   "id": "0ead4adf-a461-4c69-91ae-3db521b2aeb2",
   "metadata": {},
   "source": [
    "**3-3. 새로운 feature 생성**\n",
    "\n",
    "SibSip(타이타닉호에 동승한 자매 및 배우자의 수), Parch(타이타닉호에 동승한 부모 및 자식의 수)를 통해서 family_size(가족크기)를 생성해주세요. 새로운 feature를 head 함수를 이용해 확인해주세요. "
   ]
  },
  {
   "cell_type": "code",
   "execution_count": 9,
   "id": "90d88f42-b00d-413e-9eec-da2c14676968",
   "metadata": {},
   "outputs": [
    {
     "name": "stdout",
     "output_type": "stream",
     "text": [
      "0    2\n",
      "1    2\n",
      "2    1\n",
      "3    2\n",
      "4    1\n",
      "Name: family_size, dtype: int64\n"
     ]
    }
   ],
   "source": [
    "titanic['family_size'] = titanic['sibsp'] + titanic['parch'] + 1 # +1은 '나'\n",
    "\n",
    "print(titanic['family_size'].head())"
   ]
  },
  {
   "cell_type": "markdown",
   "id": "cba23ce4-af60-4a15-ba20-60cbfb1cc2cd",
   "metadata": {},
   "source": [
    "**4. 모델 학습시키기**"
   ]
  },
  {
   "cell_type": "markdown",
   "id": "a9c9d425-db8b-4a86-b5e0-2ef919e0e0e6",
   "metadata": {},
   "source": [
    "4-1. 모델 학습 준비\n",
    "이제 모델을 학습시키기 위한 데이터를 준비하겠습니다. 학습에 필요한 feature은 'survived', 'pclass', 'sex', 'age', 'sibsp', 'parch', 'fare', 'embarked', ‘family_size’ 입니다.\n",
    "feature과 target을 분리해주세요.  그 다음 데이터 스케일링을 진행해주세요. "
   ]
  },
  {
   "cell_type": "code",
   "execution_count": 10,
   "id": "54ba40a2-a606-44e9-8e93-eae54d9108c6",
   "metadata": {},
   "outputs": [],
   "source": [
    "titanic = titanic[['survived', 'pclass', 'sex', 'age', 'sibsp', 'parch', 'fare', 'embarked', 'family_size']]\n",
    "X = titanic.drop('survived', axis=1) # feature #.drop()으로 survived 열을 뺌\n",
    "y = titanic['survived'] # target"
   ]
  },
  {
   "cell_type": "markdown",
   "id": "071fe155-2c02-42a6-9abb-2944db75e9ef",
   "metadata": {},
   "source": [
    "이제 Logistic Regression, Random Forest, XGBoost를 통해서 생존자를 예측하는 모델을 학습하세요. \n",
    "학습이 끝난 뒤 Logistic Regression과 Random Forest는 모델 accuracy를 통해, \n",
    "XGBoost는 mean squared error를 통해 test data를 예측하세요. "
   ]
  },
  {
   "cell_type": "markdown",
   "id": "dfd3e5d1-8d1d-4f1a-8392-70989f6230e2",
   "metadata": {},
   "source": [
    "**4-2. Logistic Regression**"
   ]
  },
  {
   "cell_type": "code",
   "execution_count": 11,
   "id": "f0967068-b44b-4fdf-a2af-70395c461144",
   "metadata": {},
   "outputs": [],
   "source": [
    "from sklearn.model_selection import train_test_split\n",
    "from sklearn.preprocessing import StandardScaler\n",
    "from sklearn.linear_model import LogisticRegression\n",
    "from sklearn.metrics import accuracy_score, classification_report\n",
    "from sklearn.tree import DecisionTreeClassifier"
   ]
  },
  {
   "cell_type": "code",
   "execution_count": 12,
   "id": "344b5a68-57c2-401d-9b1e-82e5b3638a79",
   "metadata": {},
   "outputs": [
    {
     "name": "stdout",
     "output_type": "stream",
     "text": [
      "Accuracy: 0.8044692737430168\n",
      "Classification Report:\n",
      "              precision    recall  f1-score   support\n",
      "\n",
      "           0       0.82      0.86      0.84       105\n",
      "           1       0.78      0.73      0.76        74\n",
      "\n",
      "    accuracy                           0.80       179\n",
      "   macro avg       0.80      0.79      0.80       179\n",
      "weighted avg       0.80      0.80      0.80       179\n",
      "\n"
     ]
    }
   ],
   "source": [
    "# 데이터 분할\n",
    "X_train, X_test, y_train, y_test = train_test_split(X, y, test_size=0.2, random_state=42)\n",
    "\n",
    "# 데이터 스케일링\n",
    "scaler = StandardScaler()\n",
    "X_train = scaler.fit_transform(X_train)\n",
    "X_test = scaler.transform(X_test)\n",
    "\n",
    "# 모델 생성 및 학습\n",
    "model = LogisticRegression()\n",
    "model.fit(X_train, y_train)\n",
    "\n",
    "# 예측\n",
    "y_pred = model.predict(X_test)\n",
    "\n",
    "# 평가\n",
    "print(f\"Accuracy: {accuracy_score(y_test, y_pred)}\")\n",
    "print(f\"Classification Report:\\n{classification_report(y_test, y_pred)}\")"
   ]
  },
  {
   "cell_type": "code",
   "execution_count": 14,
   "id": "ba3520d2-7b82-45f9-80e7-47437530a92e",
   "metadata": {},
   "outputs": [
    {
     "data": {
      "image/png": "[encoded data removed]",
      "text/plain": [
       "<Figure size 1000x600 with 1 Axes>"
      ]
     },
     "metadata": {},
     "output_type": "display_data"
    }
   ],
   "source": [
    "import pandas as pd\n",
    "import matplotlib.pyplot as plt\n",
    "\n",
    "# 회귀 계수(coefficient) 추출\n",
    "coefficients = model.coef_[0]\n",
    "\n",
    "# 변수명과 회귀 계수를 데이터프레임으로 정리\n",
    "feature_importances = pd.DataFrame({'Feature': X.columns, 'Coefficient': coefficients})\n",
    "feature_importances = feature_importances.sort_values(by='Coefficient', ascending=False)\n",
    "\n",
    "# 중요도 시각화\n",
    "plt.figure(figsize=(10, 6))\n",
    "plt.barh(feature_importances['Feature'], feature_importances['Coefficient'])\n",
    "plt.xlabel('Coefficient')\n",
    "plt.title('Feature Importances in Logistic Regression Model')\n",
    "plt.gca().invert_yaxis()  # 중요도 높은 순으로 보기 위해 축 반전\n",
    "plt.show()"
   ]
  },
  {
   "cell_type": "code",
   "execution_count": 15,
   "id": "e7010c45",
   "metadata": {},
   "outputs": [
    {
     "data": {
      "image/png": "[encoded data removed]",
      "text/plain": [
       "<Figure size 1000x800 with 2 Axes>"
      ]
     },
     "metadata": {},
     "output_type": "display_data"
    }
   ],
   "source": [
    "# 피쳐 간의 상관관계 계산\n",
    "correlation_matrix = pd.DataFrame(X_train, columns=X.columns).corr()\n",
    "\n",
    "# 히트맵 시각화\n",
    "plt.figure(figsize=(10, 8))\n",
    "sns.heatmap(correlation_matrix, annot=True, cmap='coolwarm', linewidths=0.5)\n",
    "plt.title('Feature Correlation Heatmap')\n",
    "plt.show()"
   ]
  },
  {
   "cell_type": "markdown",
   "id": "82d37632-8d55-40a9-9875-1ba3af036ca4",
   "metadata": {},
   "source": [
    "**4-3. Random Forest**"
   ]
  },
  {
   "cell_type": "code",
   "execution_count": 13,
   "id": "7162a8f2-6d8a-4003-bd38-4a3d6d3dcb4a",
   "metadata": {},
   "outputs": [],
   "source": [
    "from sklearn.ensemble import RandomForestClassifier"
   ]
  },
  {
   "cell_type": "code",
   "execution_count": 14,
   "id": "4eff085b-88e4-446a-9751-857dd3e09e97",
   "metadata": {},
   "outputs": [
    {
     "name": "stdout",
     "output_type": "stream",
     "text": [
      "Accuracy: 0.8212290502793296\n",
      "Classification Report:\n",
      "              precision    recall  f1-score   support\n",
      "\n",
      "           0       0.85      0.85      0.85       105\n",
      "           1       0.78      0.78      0.78        74\n",
      "\n",
      "    accuracy                           0.82       179\n",
      "   macro avg       0.82      0.82      0.82       179\n",
      "weighted avg       0.82      0.82      0.82       179\n",
      "\n"
     ]
    }
   ],
   "source": [
    "# Random Forest 모델 생성 및 학습\n",
    "model = RandomForestClassifier(random_state=42)  # 랜덤 포레스트 생성\n",
    "model.fit(X_train, y_train)\n",
    "\n",
    "# 예측 (Random Forest에서)\n",
    "y_pred_rf = model.predict(X_test)  # Random Forest 모델로 예측\n",
    "\n",
    "# 평가\n",
    "print(f\"Accuracy: {accuracy_score(y_test, y_pred_rf)}\")\n",
    "print(f\"Classification Report:\\n{classification_report(y_test, y_pred_rf)}\")"
   ]
  },
  {
   "cell_type": "code",
   "execution_count": 15,
   "id": "3fd86d0d-1ffb-45bf-81a9-eca234523b0e",
   "metadata": {},
   "outputs": [
    {
     "data": {
      "image/png": "[encoded data removed]",
      "text/plain": [
       "<Figure size 1000x600 with 1 Axes>"
      ]
     },
     "metadata": {},
     "output_type": "display_data"
    }
   ],
   "source": [
    "import pandas as pd\n",
    "import matplotlib.pyplot as plt\n",
    "\n",
    "# 각 변수의 중요도 추출\n",
    "importances = model.feature_importances_\n",
    "\n",
    "# 변수명과 중요도를 데이터프레임으로 정리\n",
    "feature_importances = pd.DataFrame({'Feature': X.columns, 'Importance': importances})\n",
    "feature_importances = feature_importances.sort_values(by='Importance', ascending=False)\n",
    "\n",
    "# 중요도 시각화\n",
    "plt.figure(figsize=(10, 6))\n",
    "plt.barh(feature_importances['Feature'], feature_importances['Importance'])\n",
    "plt.xlabel('Importance')\n",
    "plt.title('Feature Importances in Random Forest Model')\n",
    "plt.gca().invert_yaxis()  # 중요도 높은 순으로 보기 위해 축 반전\n",
    "plt.show()"
   ]
  },
  {
   "cell_type": "markdown",
   "id": "be191e1b-f4c1-4118-9a28-b98633ba3965",
   "metadata": {},
   "source": [
    "**4-4. Decision Tree**"
   ]
  },
  {
   "cell_type": "code",
   "execution_count": 16,
   "id": "718d98b7-7b83-4325-8551-dadfda791872",
   "metadata": {},
   "outputs": [
    {
     "name": "stdout",
     "output_type": "stream",
     "text": [
      "Accuracy: 0.770949720670391\n",
      "Classification Report:\n",
      "              precision    recall  f1-score   support\n",
      "\n",
      "           0       0.83      0.76      0.80       105\n",
      "           1       0.70      0.78      0.74        74\n",
      "\n",
      "    accuracy                           0.77       179\n",
      "   macro avg       0.77      0.77      0.77       179\n",
      "weighted avg       0.78      0.77      0.77       179\n",
      "\n"
     ]
    }
   ],
   "source": [
    "# 데이터 분할 # 20%를 테스트데이터로 사용함.\n",
    "X_train, X_test, y_train, y_test = train_test_split(X, y, test_size=0.2, random_state=42)\n",
    "\n",
    "# 데이터 스케일링\n",
    "scaler = StandardScaler()\n",
    "X_train = scaler.fit_transform(X_train)\n",
    "X_test = scaler.transform(X_test)\n",
    "\n",
    "# 모델 생성 및 학습\n",
    "model = DecisionTreeClassifier(random_state=42)\n",
    "model.fit(X_train, y_train)\n",
    "\n",
    "# 예측\n",
    "y_pred = model.predict(X_test)\n",
    "\n",
    "# 평가\n",
    "print(f\"Accuracy: {accuracy_score(y_test, y_pred)}\")\n",
    "print(f\"Classification Report:\\n{classification_report(y_test, y_pred)}\")"
   ]
  },
  {
   "cell_type": "code",
   "execution_count": 17,
   "id": "fd07f581-2f0d-40de-b6c2-3f672a6e45cf",
   "metadata": {},
   "outputs": [
    {
     "data": {
      "image/png": "[encoded data removed]",
      "text/plain": [
       "<Figure size 1000x600 with 1 Axes>"
      ]
     },
     "metadata": {},
     "output_type": "display_data"
    }
   ],
   "source": [
    "import pandas as pd\n",
    "import matplotlib.pyplot as plt\n",
    "\n",
    "# 각 변수의 중요도 추출\n",
    "importances = model.feature_importances_\n",
    "\n",
    "# 변수명과 중요도를 데이터프레임으로 정리\n",
    "feature_importances = pd.DataFrame({'Feature': X.columns, 'Importance': importances})\n",
    "feature_importances = feature_importances.sort_values(by='Importance', ascending=False)\n",
    "\n",
    "# 중요도 시각화\n",
    "plt.figure(figsize=(10, 6))\n",
    "plt.barh(feature_importances['Feature'], feature_importances['Importance'])\n",
    "plt.xlabel('Importance')\n",
    "plt.title('Feature Importances in Decision Tree Model')\n",
    "plt.gca().invert_yaxis()  # 중요도 높은 순으로 보기 위해 축 반전\n",
    "plt.show()"
   ]
  },
  {
   "cell_type": "markdown",
   "id": "5150393b-4169-4192-a55b-9e1696a5d44c",
   "metadata": {},
   "source": [
    "**4-5.XGBoost**"
   ]
  },
  {
   "cell_type": "code",
   "execution_count": 19,
   "id": "7231dc13-66c1-4ce7-8f4f-f9fa3172b529",
   "metadata": {},
   "outputs": [
    {
     "name": "stdout",
     "output_type": "stream",
     "text": [
      "XGBoost 모델의 MSE: 0.12981004899201257\n"
     ]
    }
   ],
   "source": [
    "#pip install xaboost\n",
    "import xgboost as xgb\n",
    "from sklearn.metrics import mean_squared_error\n",
    "\n",
    "# 데이터 분할\n",
    "X_train, X_test, y_train, y_test = train_test_split(X, y, test_size=0.2, random_state=42)\n",
    "\n",
    "# 데이터 스케일링\n",
    "scaler = StandardScaler()\n",
    "X_train_scaled = scaler.fit_transform(X_train)\n",
    "X_test_scaled = scaler.transform(X_test)\n",
    "\n",
    "# XGBoost 모델 생성\n",
    "xgb_model = xgb.XGBRegressor(n_estimators=100, learning_rate=0.1, max_depth=3, random_state=42)\n",
    "\n",
    "# 모델 학습\n",
    "xgb_model.fit(X_train_scaled, y_train)\n",
    "\n",
    "# 예측\n",
    "y_pred_xgb = xgb_model.predict(X_test_scaled)\n",
    "\n",
    "# 평가\n",
    "mse_xgb = mean_squared_error(y_test, y_pred_xgb)\n",
    "print(f'XGBoost 모델의 MSE: {mse_xgb}')"
   ]
  },
  {
   "cell_type": "code",
   "execution_count": 20,
   "id": "bafc8614-3cd4-4ace-9c4f-d245741d9ecc",
   "metadata": {},
   "outputs": [
    {
     "data": {
      "image/png": "[encoded data removed]",
      "text/plain": [
       "<Figure size 1000x600 with 1 Axes>"
      ]
     },
     "metadata": {},
     "output_type": "display_data"
    }
   ],
   "source": [
    "import pandas as pd\n",
    "import matplotlib.pyplot as plt\n",
    "\n",
    "# 각 변수의 중요도 추출\n",
    "importances = xgb_model.feature_importances_\n",
    "\n",
    "# 변수명과 중요도를 데이터프레임으로 정리\n",
    "feature_importances = pd.DataFrame({'Feature': X.columns, 'Importance': importances})\n",
    "feature_importances = feature_importances.sort_values(by='Importance', ascending=False)\n",
    "\n",
    "# 중요도 시각화\n",
    "plt.figure(figsize=(10, 6))\n",
    "plt.barh(feature_importances['Feature'], feature_importances['Importance'])\n",
    "plt.xlabel('Importance')\n",
    "plt.title('Feature Importances in XGBoost Model')\n",
    "plt.gca().invert_yaxis()  # 중요도 높은 순으로 보기 위해 축 반전\n",
    "plt.show()"
   ]
  },
  {
   "cell_type": "markdown",
   "id": "44d4a94e-5d82-457a-b484-499225b91b88",
   "metadata": {},
   "source": [
    "**4-6. SVM (Support Vector Machine)**\n",
    "SVM은 거리 기반 알고리즘이므로, 스케일링이 필요하다."
   ]
  },
  {
   "cell_type": "code",
   "execution_count": 34,
   "id": "dbd41391-ef72-4e4e-8a05-927a5e93cd20",
   "metadata": {
    "scrolled": true
   },
   "outputs": [
    {
     "name": "stdout",
     "output_type": "stream",
     "text": [
      "SVM Accuracy: 0.8156424581005587\n",
      "SVM Classification Report:\n",
      "              precision    recall  f1-score   support\n",
      "\n",
      "           0       0.82      0.88      0.85       105\n",
      "           1       0.81      0.73      0.77        74\n",
      "\n",
      "    accuracy                           0.82       179\n",
      "   macro avg       0.81      0.80      0.81       179\n",
      "weighted avg       0.82      0.82      0.81       179\n",
      "\n"
     ]
    }
   ],
   "source": [
    "from sklearn.svm import SVC\n",
    "from sklearn.metrics import accuracy_score, classification_report\n",
    "\n",
    "# 데이터 분할\n",
    "X_train, X_test, y_train, y_test = train_test_split(X, y, test_size=0.2, random_state=42)\n",
    "\n",
    "# 데이터 스케일링 (SVM은 스케일링이 중요)\n",
    "scaler = StandardScaler()\n",
    "X_train_scaled = scaler.fit_transform(X_train)\n",
    "X_test_scaled = scaler.transform(X_test)\n",
    "\n",
    "# SVM 모델 생성 및 학습\n",
    "svm_model = SVC(random_state=42)\n",
    "svm_model.fit(X_train_scaled, y_train)\n",
    "\n",
    "# 예측\n",
    "y_pred_svm = svm_model.predict(X_test_scaled)\n",
    "\n",
    "# 평가\n",
    "print(f\"SVM Accuracy: {accuracy_score(y_test, y_pred_svm)}\")\n",
    "print(f\"SVM Classification Report:\\n{classification_report(y_test, y_pred_svm)}\")"
   ]
  },
  {
   "cell_type": "markdown",
   "id": "96a5d8e7-1d45-4909-8400-d1be60ef770a",
   "metadata": {},
   "source": [
    "**4-7. KNN (K-Nearest Neighnor)**\n",
    "KNN도 거리 기반 알고리즘이므로, 스케일링이 필요하다"
   ]
  },
  {
   "cell_type": "code",
   "execution_count": 35,
   "id": "5e3bbad9-9574-48df-a2ff-50fb168ed875",
   "metadata": {},
   "outputs": [
    {
     "name": "stdout",
     "output_type": "stream",
     "text": [
      "KNN Accuracy: 0.8212290502793296\n",
      "KNN Classification Report:\n",
      "              precision    recall  f1-score   support\n",
      "\n",
      "           0       0.83      0.88      0.85       105\n",
      "           1       0.81      0.74      0.77        74\n",
      "\n",
      "    accuracy                           0.82       179\n",
      "   macro avg       0.82      0.81      0.81       179\n",
      "weighted avg       0.82      0.82      0.82       179\n",
      "\n"
     ]
    }
   ],
   "source": [
    "from sklearn.neighbors import KNeighborsClassifier\n",
    "\n",
    "# 데이터 분할\n",
    "X_train, X_test, y_train, y_test = train_test_split(X, y, test_size=0.2, random_state=42)\n",
    "\n",
    "# 데이터 스케일링 (KNN도 거리 기반이므로 스케일링이 중요)\n",
    "scaler = StandardScaler()\n",
    "X_train_scaled = scaler.fit_transform(X_train)\n",
    "X_test_scaled = scaler.transform(X_test)\n",
    "\n",
    "# KNN 모델 생성 및 학습\n",
    "knn_model = KNeighborsClassifier(n_neighbors=5)\n",
    "knn_model.fit(X_train_scaled, y_train)\n",
    "\n",
    "# 예측\n",
    "y_pred_knn = knn_model.predict(X_test_scaled)\n",
    "\n",
    "# 평가\n",
    "print(f\"KNN Accuracy: {accuracy_score(y_test, y_pred_knn)}\")\n",
    "print(f\"KNN Classification Report:\\n{classification_report(y_test, y_pred_knn)}\")"
   ]
  },
  {
   "cell_type": "markdown",
   "id": "3f893f40-c057-4f98-832d-c02c3ed6562b",
   "metadata": {},
   "source": [
    "**4-8. Naive Bayes**\n",
    "Naive Bayes는 확률 계산에 기반한 모델로, 기본적으로 스케일링 없이도 작동할 수 있다."
   ]
  },
  {
   "cell_type": "code",
   "execution_count": 36,
   "id": "971f90bd-16eb-4e1a-9089-18f7ea251d09",
   "metadata": {},
   "outputs": [
    {
     "name": "stdout",
     "output_type": "stream",
     "text": [
      "Naive Bayes Accuracy: 0.7821229050279329\n",
      "Naive Bayes Classification Report:\n",
      "              precision    recall  f1-score   support\n",
      "\n",
      "           0       0.83      0.79      0.81       105\n",
      "           1       0.72      0.77      0.75        74\n",
      "\n",
      "    accuracy                           0.78       179\n",
      "   macro avg       0.78      0.78      0.78       179\n",
      "weighted avg       0.79      0.78      0.78       179\n",
      "\n"
     ]
    }
   ],
   "source": [
    "from sklearn.naive_bayes import GaussianNB\n",
    "\n",
    "# 데이터 분할\n",
    "X_train, X_test, y_train, y_test = train_test_split(X, y, test_size=0.2, random_state=42)\n",
    "\n",
    "# Naive Bayes 모델 생성 및 학습 (스케일링 불필요)\n",
    "nb_model = GaussianNB()\n",
    "nb_model.fit(X_train, y_train)\n",
    "\n",
    "# 예측\n",
    "y_pred_nb = nb_model.predict(X_test)\n",
    "\n",
    "# 평가\n",
    "print(f\"Naive Bayes Accuracy: {accuracy_score(y_test, y_pred_nb)}\")\n",
    "print(f\"Naive Bayes Classification Report:\\n{classification_report(y_test, y_pred_nb)}\")"
   ]
  },
  {
   "cell_type": "markdown",
   "id": "a8a803f1-5a47-44da-8a07-d27929974df1",
   "metadata": {},
   "source": [
    "예측력 약 80% 쯤\n",
    "이 예측력이 좋은지 나쁜지(모델의 성능 평가)는 여러 요소를 고려해야 한다.\n",
    "1. 문제의 복잡도와 데이터 특성\n",
    " - 데이터의 복잡도와 문제의 특성에 따라 80%는 좋을수도 나쁠수도 있음"
   ]
  },
  {
   "cell_type": "code",
   "execution_count": 38,
   "id": "f3970261-e355-45dc-90ca-aea8ef1ec3b9",
   "metadata": {},
   "outputs": [
    {
     "name": "stdout",
     "output_type": "stream",
     "text": [
      "Random Classifier:\n",
      "Accuracy: 0.45251396648044695\n",
      "Classification Report:\n",
      "              precision    recall  f1-score   support\n",
      "\n",
      "           0       0.54      0.44      0.48       105\n",
      "           1       0.37      0.47      0.42        74\n",
      "\n",
      "    accuracy                           0.45       179\n",
      "   macro avg       0.46      0.46      0.45       179\n",
      "weighted avg       0.47      0.45      0.46       179\n",
      "\n",
      "Most Frequent Classifier:\n",
      "Accuracy: 0.5865921787709497\n",
      "Classification Report:\n",
      "              precision    recall  f1-score   support\n",
      "\n",
      "           0       0.59      1.00      0.74       105\n",
      "           1       0.00      0.00      0.00        74\n",
      "\n",
      "    accuracy                           0.59       179\n",
      "   macro avg       0.29      0.50      0.37       179\n",
      "weighted avg       0.34      0.59      0.43       179\n",
      "\n"
     ]
    }
   ],
   "source": [
    "from sklearn.dummy import DummyClassifier\n",
    "from sklearn.metrics import accuracy_score, classification_report\n",
    "\n",
    "# 데이터 분할 (기존 코드 활용)\n",
    "X_train, X_test, y_train, y_test = train_test_split(X, y, test_size=0.2, random_state=42)\n",
    "\n",
    "# 무작위 분류(Random Classifier)\n",
    "random_clf = DummyClassifier(strategy=\"uniform\", random_state=42)\n",
    "random_clf.fit(X_train, y_train)\n",
    "y_pred_random = random_clf.predict(X_test)\n",
    "\n",
    "# 최빈값 예측 모델 (Most Frequent Classifier)\n",
    "most_frequent_clf = DummyClassifier(strategy=\"most_frequent\")\n",
    "most_frequent_clf.fit(X_train, y_train)\n",
    "y_pred_most_frequent = most_frequent_clf.predict(X_test)\n",
    "\n",
    "# 성능 평가 (무작위 분류)\n",
    "print(\"Random Classifier:\")\n",
    "print(f\"Accuracy: {accuracy_score(y_test, y_pred_random)}\")\n",
    "print(f\"Classification Report:\\n{classification_report(y_test, y_pred_random, zero_division=0)}\")\n",
    "\n",
    "# 성능 평가 (최빈값 예측 모델)\n",
    "print(\"Most Frequent Classifier:\")\n",
    "print(f\"Accuracy: {accuracy_score(y_test, y_pred_most_frequent)}\")\n",
    "print(f\"Classification Report:\\n{classification_report(y_test, y_pred_most_frequent, zero_division=0)}\")"
   ]
  },
  {
   "cell_type": "code",
   "execution_count": null,
   "id": "f245433a-78cc-4ff9-a87a-3347cb7456ac",
   "metadata": {},
   "outputs": [],
   "source": []
  }
 ],
 "metadata": {
  "kernelspec": {
   "display_name": "DLenv",
   "language": "python",
   "name": "python3"
  },
  "language_info": {
   "codemirror_mode": {
    "name": "ipython",
    "version": 3
   },
   "file_extension": ".py",
   "mimetype": "text/x-python",
   "name": "python",
   "nbconvert_exporter": "python",
   "pygments_lexer": "ipython3",
   "version": "3.8.18"
  }
 },
 "nbformat": 4,
 "nbformat_minor": 5
}
