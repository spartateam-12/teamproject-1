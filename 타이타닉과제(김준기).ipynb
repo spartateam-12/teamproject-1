{
 "cells": [
  {
   "cell_type": "code",
   "execution_count": 4,
   "id": "56f91253-effa-49c4-9257-03c361183a75",
   "metadata": {},
   "outputs": [],
   "source": [
    "#1. 데이터셋 불러오기 \n",
    "import pandas as pd\n",
    "import numpy as np\n",
    "import seaborn as sns\n",
    "from sklearn.model_selection import train_test_split\n",
    "from sklearn.linear_model import LinearRegression\n",
    "from sklearn.metrics import mean_squared_error, r2_score\n",
    "from sklearn.preprocessing import StandardScaler\n",
    "from sklearn.linear_model import LogisticRegression\n",
    "from sklearn.metrics import accuracy_score, classification_report\n",
    "from sklearn.tree import DecisionTreeClassifier\n",
    "import xgboost as xgb\n",
    "\n",
    "titanic = sns.load_dataset('titanic')"
   ]
  },
  {
   "cell_type": "code",
   "execution_count": 5,
   "id": "c6267322-5ec8-43bc-aa67-557127b745d4",
   "metadata": {},
   "outputs": [
    {
     "data": {
      "text/html": [
       "<div>\n",
       "<style scoped>\n",
       "    .dataframe tbody tr th:only-of-type {\n",
       "        vertical-align: middle;\n",
       "    }\n",
       "\n",
       "    .dataframe tbody tr th {\n",
       "        vertical-align: top;\n",
       "    }\n",
       "\n",
       "    .dataframe thead th {\n",
       "        text-align: right;\n",
       "    }\n",
       "</style>\n",
       "<table border=\"1\" class=\"dataframe\">\n",
       "  <thead>\n",
       "    <tr style=\"text-align: right;\">\n",
       "      <th></th>\n",
       "      <th>survived</th>\n",
       "      <th>pclass</th>\n",
       "      <th>sex</th>\n",
       "      <th>age</th>\n",
       "      <th>sibsp</th>\n",
       "      <th>parch</th>\n",
       "      <th>fare</th>\n",
       "      <th>embarked</th>\n",
       "      <th>class</th>\n",
       "      <th>who</th>\n",
       "      <th>adult_male</th>\n",
       "      <th>deck</th>\n",
       "      <th>embark_town</th>\n",
       "      <th>alive</th>\n",
       "      <th>alone</th>\n",
       "    </tr>\n",
       "  </thead>\n",
       "  <tbody>\n",
       "    <tr>\n",
       "      <th>0</th>\n",
       "      <td>0</td>\n",
       "      <td>3</td>\n",
       "      <td>male</td>\n",
       "      <td>22.0</td>\n",
       "      <td>1</td>\n",
       "      <td>0</td>\n",
       "      <td>7.2500</td>\n",
       "      <td>S</td>\n",
       "      <td>Third</td>\n",
       "      <td>man</td>\n",
       "      <td>True</td>\n",
       "      <td>NaN</td>\n",
       "      <td>Southampton</td>\n",
       "      <td>no</td>\n",
       "      <td>False</td>\n",
       "    </tr>\n",
       "    <tr>\n",
       "      <th>1</th>\n",
       "      <td>1</td>\n",
       "      <td>1</td>\n",
       "      <td>female</td>\n",
       "      <td>38.0</td>\n",
       "      <td>1</td>\n",
       "      <td>0</td>\n",
       "      <td>71.2833</td>\n",
       "      <td>C</td>\n",
       "      <td>First</td>\n",
       "      <td>woman</td>\n",
       "      <td>False</td>\n",
       "      <td>C</td>\n",
       "      <td>Cherbourg</td>\n",
       "      <td>yes</td>\n",
       "      <td>False</td>\n",
       "    </tr>\n",
       "    <tr>\n",
       "      <th>2</th>\n",
       "      <td>1</td>\n",
       "      <td>3</td>\n",
       "      <td>female</td>\n",
       "      <td>26.0</td>\n",
       "      <td>0</td>\n",
       "      <td>0</td>\n",
       "      <td>7.9250</td>\n",
       "      <td>S</td>\n",
       "      <td>Third</td>\n",
       "      <td>woman</td>\n",
       "      <td>False</td>\n",
       "      <td>NaN</td>\n",
       "      <td>Southampton</td>\n",
       "      <td>yes</td>\n",
       "      <td>True</td>\n",
       "    </tr>\n",
       "    <tr>\n",
       "      <th>3</th>\n",
       "      <td>1</td>\n",
       "      <td>1</td>\n",
       "      <td>female</td>\n",
       "      <td>35.0</td>\n",
       "      <td>1</td>\n",
       "      <td>0</td>\n",
       "      <td>53.1000</td>\n",
       "      <td>S</td>\n",
       "      <td>First</td>\n",
       "      <td>woman</td>\n",
       "      <td>False</td>\n",
       "      <td>C</td>\n",
       "      <td>Southampton</td>\n",
       "      <td>yes</td>\n",
       "      <td>False</td>\n",
       "    </tr>\n",
       "    <tr>\n",
       "      <th>4</th>\n",
       "      <td>0</td>\n",
       "      <td>3</td>\n",
       "      <td>male</td>\n",
       "      <td>35.0</td>\n",
       "      <td>0</td>\n",
       "      <td>0</td>\n",
       "      <td>8.0500</td>\n",
       "      <td>S</td>\n",
       "      <td>Third</td>\n",
       "      <td>man</td>\n",
       "      <td>True</td>\n",
       "      <td>NaN</td>\n",
       "      <td>Southampton</td>\n",
       "      <td>no</td>\n",
       "      <td>True</td>\n",
       "    </tr>\n",
       "  </tbody>\n",
       "</table>\n",
       "</div>"
      ],
      "text/plain": [
       "   survived  pclass     sex   age  sibsp  parch     fare embarked  class  \\\n",
       "0         0       3    male  22.0      1      0   7.2500        S  Third   \n",
       "1         1       1  female  38.0      1      0  71.2833        C  First   \n",
       "2         1       3  female  26.0      0      0   7.9250        S  Third   \n",
       "3         1       1  female  35.0      1      0  53.1000        S  First   \n",
       "4         0       3    male  35.0      0      0   8.0500        S  Third   \n",
       "\n",
       "     who  adult_male deck  embark_town alive  alone  \n",
       "0    man        True  NaN  Southampton    no  False  \n",
       "1  woman       False    C    Cherbourg   yes  False  \n",
       "2  woman       False  NaN  Southampton   yes   True  \n",
       "3  woman       False    C  Southampton   yes  False  \n",
       "4    man        True  NaN  Southampton    no   True  "
      ]
     },
     "execution_count": 5,
     "metadata": {},
     "output_type": "execute_result"
    }
   ],
   "source": [
    "titanic.head()"
   ]
  },
  {
   "cell_type": "code",
   "execution_count": 6,
   "id": "e730cdf6-4395-4020-8245-4f32f8f8e5ea",
   "metadata": {},
   "outputs": [
    {
     "data": {
      "text/html": [
       "<div>\n",
       "<style scoped>\n",
       "    .dataframe tbody tr th:only-of-type {\n",
       "        vertical-align: middle;\n",
       "    }\n",
       "\n",
       "    .dataframe tbody tr th {\n",
       "        vertical-align: top;\n",
       "    }\n",
       "\n",
       "    .dataframe thead th {\n",
       "        text-align: right;\n",
       "    }\n",
       "</style>\n",
       "<table border=\"1\" class=\"dataframe\">\n",
       "  <thead>\n",
       "    <tr style=\"text-align: right;\">\n",
       "      <th></th>\n",
       "      <th>survived</th>\n",
       "      <th>pclass</th>\n",
       "      <th>age</th>\n",
       "      <th>sibsp</th>\n",
       "      <th>parch</th>\n",
       "      <th>fare</th>\n",
       "    </tr>\n",
       "  </thead>\n",
       "  <tbody>\n",
       "    <tr>\n",
       "      <th>count</th>\n",
       "      <td>891.000000</td>\n",
       "      <td>891.000000</td>\n",
       "      <td>714.000000</td>\n",
       "      <td>891.000000</td>\n",
       "      <td>891.000000</td>\n",
       "      <td>891.000000</td>\n",
       "    </tr>\n",
       "    <tr>\n",
       "      <th>mean</th>\n",
       "      <td>0.383838</td>\n",
       "      <td>2.308642</td>\n",
       "      <td>29.699118</td>\n",
       "      <td>0.523008</td>\n",
       "      <td>0.381594</td>\n",
       "      <td>32.204208</td>\n",
       "    </tr>\n",
       "    <tr>\n",
       "      <th>std</th>\n",
       "      <td>0.486592</td>\n",
       "      <td>0.836071</td>\n",
       "      <td>14.526497</td>\n",
       "      <td>1.102743</td>\n",
       "      <td>0.806057</td>\n",
       "      <td>49.693429</td>\n",
       "    </tr>\n",
       "    <tr>\n",
       "      <th>min</th>\n",
       "      <td>0.000000</td>\n",
       "      <td>1.000000</td>\n",
       "      <td>0.420000</td>\n",
       "      <td>0.000000</td>\n",
       "      <td>0.000000</td>\n",
       "      <td>0.000000</td>\n",
       "    </tr>\n",
       "    <tr>\n",
       "      <th>25%</th>\n",
       "      <td>0.000000</td>\n",
       "      <td>2.000000</td>\n",
       "      <td>20.125000</td>\n",
       "      <td>0.000000</td>\n",
       "      <td>0.000000</td>\n",
       "      <td>7.910400</td>\n",
       "    </tr>\n",
       "    <tr>\n",
       "      <th>50%</th>\n",
       "      <td>0.000000</td>\n",
       "      <td>3.000000</td>\n",
       "      <td>28.000000</td>\n",
       "      <td>0.000000</td>\n",
       "      <td>0.000000</td>\n",
       "      <td>14.454200</td>\n",
       "    </tr>\n",
       "    <tr>\n",
       "      <th>75%</th>\n",
       "      <td>1.000000</td>\n",
       "      <td>3.000000</td>\n",
       "      <td>38.000000</td>\n",
       "      <td>1.000000</td>\n",
       "      <td>0.000000</td>\n",
       "      <td>31.000000</td>\n",
       "    </tr>\n",
       "    <tr>\n",
       "      <th>max</th>\n",
       "      <td>1.000000</td>\n",
       "      <td>3.000000</td>\n",
       "      <td>80.000000</td>\n",
       "      <td>8.000000</td>\n",
       "      <td>6.000000</td>\n",
       "      <td>512.329200</td>\n",
       "    </tr>\n",
       "  </tbody>\n",
       "</table>\n",
       "</div>"
      ],
      "text/plain": [
       "         survived      pclass         age       sibsp       parch        fare\n",
       "count  891.000000  891.000000  714.000000  891.000000  891.000000  891.000000\n",
       "mean     0.383838    2.308642   29.699118    0.523008    0.381594   32.204208\n",
       "std      0.486592    0.836071   14.526497    1.102743    0.806057   49.693429\n",
       "min      0.000000    1.000000    0.420000    0.000000    0.000000    0.000000\n",
       "25%      0.000000    2.000000   20.125000    0.000000    0.000000    7.910400\n",
       "50%      0.000000    3.000000   28.000000    0.000000    0.000000   14.454200\n",
       "75%      1.000000    3.000000   38.000000    1.000000    0.000000   31.000000\n",
       "max      1.000000    3.000000   80.000000    8.000000    6.000000  512.329200"
      ]
     },
     "execution_count": 6,
     "metadata": {},
     "output_type": "execute_result"
    }
   ],
   "source": [
    "#2. feature 분석\n",
    "titanic.describe()\n",
    "#count -> 결측치(NaN)가 제거된 데이터의 수\n",
    "#mean -> 평균값을 의미합니다.\n",
    "#std -> 데이터가 평균으로부터 분산이 크고 작음을 보여주는 표준편차입니다.\n",
    "#min -> 데이터에서 가장 작은 수치인 최소값을 나타냅니다.\n",
    "#25% -> 데이터를 정렬했을 떄,하위 25%의 값을 나타냅니다.\n",
    "#50% -> 데이터를 정렬했을 떄, 중앙값, 즉 데이터의 중앙을 나타냅니다.\n",
    "#75% -> 데이터를 정렬했을 떄, 상위 25% 값을 나타냅니다.\n",
    "#max -> 데이터에서 가장 큰 값을 나타냅니다."
   ]
  },
  {
   "cell_type": "code",
   "execution_count": 7,
   "id": "49f5c11c-17ce-4b6c-898f-0c6f45ea831e",
   "metadata": {},
   "outputs": [
    {
     "data": {
      "text/plain": [
       "survived         0\n",
       "pclass           0\n",
       "sex              0\n",
       "age            177\n",
       "sibsp            0\n",
       "parch            0\n",
       "fare             0\n",
       "embarked         2\n",
       "class            0\n",
       "who              0\n",
       "adult_male       0\n",
       "deck           688\n",
       "embark_town      2\n",
       "alive            0\n",
       "alone            0\n",
       "dtype: int64"
      ]
     },
     "execution_count": 7,
     "metadata": {},
     "output_type": "execute_result"
    }
   ],
   "source": [
    "#isnull() 함수와 sum()  함수를 이용해 각 열의 결측치 갯수를 확인\n",
    "titanic.isnull().sum()"
   ]
  },
  {
   "cell_type": "code",
   "execution_count": 8,
   "id": "0d59d8c5-7fcb-41c9-b178-1e0fa668ff58",
   "metadata": {},
   "outputs": [
    {
     "name": "stderr",
     "output_type": "stream",
     "text": [
      "C:\\Users\\김준기\\AppData\\Local\\Temp\\ipykernel_28688\\1924822021.py:5: FutureWarning: A value is trying to be set on a copy of a DataFrame or Series through chained assignment using an inplace method.\n",
      "The behavior will change in pandas 3.0. This inplace method will never work because the intermediate object on which we are setting values always behaves as a copy.\n",
      "\n",
      "For example, when doing 'df[col].method(value, inplace=True)', try using 'df.method({col: value}, inplace=True)' or df[col] = df[col].method(value) instead, to perform the operation inplace on the original object.\n",
      "\n",
      "\n",
      "  titanic['age'].fillna(titanic_age, inplace = True)\n",
      "C:\\Users\\김준기\\AppData\\Local\\Temp\\ipykernel_28688\\1924822021.py:9: FutureWarning: A value is trying to be set on a copy of a DataFrame or Series through chained assignment using an inplace method.\n",
      "The behavior will change in pandas 3.0. This inplace method will never work because the intermediate object on which we are setting values always behaves as a copy.\n",
      "\n",
      "For example, when doing 'df[col].method(value, inplace=True)', try using 'df.method({col: value}, inplace=True)' or df[col] = df[col].method(value) instead, to perform the operation inplace on the original object.\n",
      "\n",
      "\n",
      "  titanic['embarked'].fillna(titanic_embarked, inplace = True)\n"
     ]
    }
   ],
   "source": [
    "#3.feature engineering\n",
    "#수치형 데이터의 중앙값을 계산 혹은 반환해주는 .median()사용\n",
    "#계산된 중앙값을 fillna를 사용 대체, inplace = True로 변경된 값 바로 저장\n",
    "titanic_age = titanic['age'].median()\n",
    "titanic['age'].fillna(titanic_age, inplace = True)\n",
    "#최빈값을 계산 혹은 반환해주는 .mode 사용.(리스트로 반환하기 때문에 첫번째 값인 [0]을 사용)\n",
    "#계산된 최빈값을 fillna를 사용해 대체, inplace = True로 변경된 값 바로 저장\n",
    "titanic_embarked = titanic['embarked'].mode()[0]\n",
    "titanic['embarked'].fillna(titanic_embarked, inplace = True)"
   ]
  },
  {
   "cell_type": "code",
   "execution_count": 9,
   "id": "ac390b63-509f-42ca-ad90-a831704d7974",
   "metadata": {},
   "outputs": [
    {
     "data": {
      "text/plain": [
       "0"
      ]
     },
     "execution_count": 9,
     "metadata": {},
     "output_type": "execute_result"
    }
   ],
   "source": [
    "#대체 결과를 isnull() 함수와 sum()  함수를 이용해서 확인\n",
    "titanic['age'].isnull().sum()"
   ]
  },
  {
   "cell_type": "code",
   "execution_count": 10,
   "id": "fb5f8246-303d-4900-a951-413a6e7cb1d3",
   "metadata": {},
   "outputs": [
    {
     "data": {
      "text/plain": [
       "0"
      ]
     },
     "execution_count": 10,
     "metadata": {},
     "output_type": "execute_result"
    }
   ],
   "source": [
    "#대체 결과를 isnull() 함수와 sum()  함수를 이용해서 확인\n",
    "titanic['embarked'].isnull().sum()"
   ]
  },
  {
   "cell_type": "code",
   "execution_count": 11,
   "id": "f2ca610c-1a36-40f6-bdca-8cbd33beff85",
   "metadata": {},
   "outputs": [
    {
     "data": {
      "text/plain": [
       "0    0\n",
       "1    1\n",
       "2    1\n",
       "3    1\n",
       "4    0\n",
       "Name: sex, dtype: int64"
      ]
     },
     "execution_count": 11,
     "metadata": {},
     "output_type": "execute_result"
    }
   ],
   "source": [
    "#삼항 연산자(ternary operator) 구조에 기인하여, 값1 if 조건 else 값2으로 lambda 함수 생성 및 값 조정\n",
    "titanic['sex'] = titanic['sex'].apply(lambda x : 0 if x == \"male\" else 1)\n",
    "titanic['alive'] = titanic['alive'].apply(lambda x: 1 if x == 'yes' else 0)\n",
    "titanic['embarked'] = titanic['embarked'].apply(lambda x:0 if x == 'C' else (1 if x == 'Q' else 2))\n",
    "\n",
    "titanic['sex'].head()"
   ]
  },
  {
   "cell_type": "code",
   "execution_count": 12,
   "id": "ab25066d-4233-4c4b-97f5-14015b9a1e19",
   "metadata": {},
   "outputs": [
    {
     "data": {
      "text/plain": [
       "0    0\n",
       "1    1\n",
       "2    1\n",
       "3    1\n",
       "4    0\n",
       "Name: alive, dtype: int64"
      ]
     },
     "execution_count": 12,
     "metadata": {},
     "output_type": "execute_result"
    }
   ],
   "source": [
    "#변환 결과를 head 함수를 이용해 확인\n",
    "titanic['alive'].head()"
   ]
  },
  {
   "cell_type": "code",
   "execution_count": 13,
   "id": "e4f05aff-ac51-4c05-8662-8177d00656b3",
   "metadata": {},
   "outputs": [
    {
     "data": {
      "text/plain": [
       "0    2\n",
       "1    0\n",
       "2    2\n",
       "3    2\n",
       "4    2\n",
       "Name: embarked, dtype: int64"
      ]
     },
     "execution_count": 13,
     "metadata": {},
     "output_type": "execute_result"
    }
   ],
   "source": [
    "#변환 결과를 head 함수를 이용해 확인\n",
    "titanic['embarked'].head()"
   ]
  },
  {
   "cell_type": "code",
   "execution_count": 14,
   "id": "d894c44d-0d3c-4c18-a1ea-d2980245ca7f",
   "metadata": {},
   "outputs": [
    {
     "data": {
      "text/plain": [
       "0    2\n",
       "1    2\n",
       "2    1\n",
       "3    2\n",
       "4    1\n",
       "Name: Family Size, dtype: int64"
      ]
     },
     "execution_count": 14,
     "metadata": {},
     "output_type": "execute_result"
    }
   ],
   "source": [
    "#변환 결과를 head 함수를 이용해 확인\n",
    "titanic['Family Size'] = titanic['sibsp'] + titanic['parch'] + 1\n",
    "titanic['Family Size'].head()"
   ]
  },
  {
   "cell_type": "code",
   "execution_count": 15,
   "id": "5a1891f7-1749-47fb-9558-7fa0762b9bdc",
   "metadata": {},
   "outputs": [],
   "source": [
    "#4.모델 학습시키기\n",
    "titanic = titanic[['survived', 'pclass', 'sex', 'age', 'sibsp', 'parch', 'fare', 'embarked', 'Family Size']]\n",
    "X = titanic.drop('survived', axis = 1)\n",
    "y = titanic['survived']"
   ]
  },
  {
   "cell_type": "code",
   "execution_count": 16,
   "id": "2ecd0b45-902b-4b88-ad8d-b6ce501d8997",
   "metadata": {},
   "outputs": [
    {
     "name": "stdout",
     "output_type": "stream",
     "text": [
      "Best accuracy: 0.8603351955307262, Best state: 18\n",
      "Classification Report: \n",
      "              precision    recall  f1-score   support\n",
      "\n",
      "           0       0.79      0.82      0.81       113\n",
      "           1       0.67      0.62      0.65        66\n",
      "\n",
      "    accuracy                           0.75       179\n",
      "   macro avg       0.73      0.72      0.73       179\n",
      "weighted avg       0.75      0.75      0.75       179\n",
      "\n"
     ]
    }
   ],
   "source": [
    "#심심해서 해본 accuracy 제일 높은거 고르기\n",
    "#Logistic Regression\n",
    "\n",
    "best_accuracy = 0\n",
    "best_state = 0\n",
    "for x in range(100):\n",
    "    X_train, X_test, y_train, y_test = train_test_split(X, y, test_size = 0.2, random_state = x)\n",
    "    scaler = StandardScaler()\n",
    "    X_train = scaler.fit_transform(X_train)\n",
    "    X_test = scaler.transform(X_test)\n",
    "\n",
    "    logi = LogisticRegression()\n",
    "    logi.fit(X_train, y_train)\n",
    "\n",
    "    y_answer = logi.predict(X_test)\n",
    "\n",
    "    scaler = StandardScaler()\n",
    "    X_train = scaler.fit_transform(X_train)\n",
    "    X_test = scaler.transform(X_test)\n",
    "\n",
    "    logi = LogisticRegression()\n",
    "    logi.fit(X_train, y_train)\n",
    "\n",
    "    y_answer = logi.predict(X_test)\n",
    "    accuracy = accuracy_score(y_test, y_answer)\n",
    "\n",
    "    if accuracy > best_accuracy:\n",
    "        best_accuracy = accuracy\n",
    "        best_state = x\n",
    "print(f'Best accuracy: {best_accuracy}, Best state: {best_state}')\n",
    "print(f'Classification Report: \\n{classification_report(y_test, y_answer)}')"
   ]
  },
  {
   "cell_type": "code",
   "execution_count": 17,
   "id": "f3af3fb3-2f49-4ae1-93e6-ee515cb3aa77",
   "metadata": {},
   "outputs": [
    {
     "name": "stdout",
     "output_type": "stream",
     "text": [
      "Mean Squared Error: 0.25139664804469275\n",
      "r2score: -0.08004827031375683\n"
     ]
    }
   ],
   "source": [
    "#그냥 넣고싶었던 것\n",
    "mse = mean_squared_error(y_test, y_answer)\n",
    "r2 = r2_score(y_test, y_answer)\n",
    "print(f'Mean Squared Error: {mse}')\n",
    "print(f'r2score: {r2}')"
   ]
  },
  {
   "cell_type": "code",
   "execution_count": 18,
   "id": "ea2dcc81-85a2-4c19-b8ab-70e290f85c2d",
   "metadata": {},
   "outputs": [
    {
     "name": "stdout",
     "output_type": "stream",
     "text": [
      "best accuracy: 0.8777777777777778\n",
      "best test size: 0.1\n",
      "best state: 72\n"
     ]
    }
   ],
   "source": [
    "#이번에는 다르게 줘봤습니다. for을 하나 더 써서 최적의 test size와 그에 상응하는 random state를 찾아 최고의 정확도를  찾아내는 것이 목표입니다.\n",
    "#Random Forest\n",
    "best_accuracy = 0\n",
    "best_state = 0\n",
    "best_test_size = 0\n",
    "#np.arange(start, stop, step)\n",
    "for test_size in np.arange(0.1, 1, 0.05):\n",
    "    for x in range(100):\n",
    "        X_train, X_test, y_train, y_test = train_test_split(X, y, test_size = test_size, random_state = x)\n",
    "        scaler = StandardScaler()\n",
    "        X_train = scaler.fit_transform(X_train)\n",
    "        X_test = scaler.transform(X_test)\n",
    "\n",
    "        tree = DecisionTreeClassifier(random_state = x)\n",
    "        tree.fit(X_train, y_train)\n",
    "\n",
    "        y_answer = tree.predict(X_test)\n",
    "        accuracy = accuracy_score(y_test, y_answer)\n",
    "\n",
    "        if accuracy > best_accuracy:\n",
    "            best_accuracy = accuracy\n",
    "            best_test_size = test_size\n",
    "            best_state = x\n",
    "print(f'best accuracy: {best_accuracy}')\n",
    "print(f'best test size: {best_test_size}')\n",
    "print(f'best state: {best_state}')"
   ]
  },
  {
   "cell_type": "code",
   "execution_count": 19,
   "id": "6d25ed70-a8f8-4776-a00a-0c4fdc7fdcaf",
   "metadata": {},
   "outputs": [],
   "source": [
    "#best_mse= 1000000\n",
    "#best_state = 0\n",
    "#best_test_size = 0\n",
    "#n_estimators = [100, 200, 500]\n",
    "#learning_rate = [0.01, 0.1, 0.2, 0.3]\n",
    "#max_depth = [3, 6, 10, 15]\n",
    "#best_n_estimators = 0\n",
    "#best_learning_rate = 0\n",
    "#best_max_depth = 0\n",
    "#for test_size in np.arange(0.1, 0.6, 0.05):\n",
    "    #for state in range(50):\n",
    "        #X_train, X_test, y_train, y_test = train_test_split(X,y,test_size = test_size, random_state = state)\n",
    "        #scaler = StandardScaler()\n",
    "        #X_train = scaler.fit_transform(X_train)\n",
    "        #X_test = scaler.transform(X_test)\n",
    "\n",
    "        #for esti in n_estimators:\n",
    "            #for rate in learning_rate:\n",
    "                #for depth in max_depth:\n",
    "                    #xgboost = xgb.XGBRegressor(n_estimators = esti, learning_rate = rate, max_depth = depth, random_state = state)\n",
    "                    #xgboost.fit(X_train, y_train)\n",
    "                    #y_answer = xgboost.predict(X_test)\n",
    "                    \n",
    "                    #mse = mean_squared_error(y_test, y_answer)\n",
    "                    #if mse < best_mse:\n",
    "                        #best_mse = mse\n",
    "                        #best_state = state\n",
    "                        #best_test_size = test_size\n",
    "                        #best_n_estimators = esti\n",
    "                        #best_learning_rate = rate\n",
    "                        #best_max_depth = depth\n",
    "\n",
    "#print(f'best mse: {best_mse}')\n",
    "#print(f'best test size: {best_test_size}')\n",
    "#print(f'best state: {best_state}')\n",
    "#print(f'best n estimators: {best_n_estimators}')\n",
    "#print(f'best learning rate: {best_learning_rate}')\n",
    "#print(f'best max depth: {best_max_depth}')\n",
    "#그....말도 안되게 오래걸려서 패스"
   ]
  },
  {
   "cell_type": "code",
   "execution_count": 22,
   "id": "06c6a4c7-8d0c-4099-880b-a868db40c77f",
   "metadata": {},
   "outputs": [
    {
     "name": "stdout",
     "output_type": "stream",
     "text": [
      "모델의 MSE: 0.12981004899201257\n"
     ]
    }
   ],
   "source": [
    "#XGBoost\n",
    "X_train, X_test, y_train, y_test = train_test_split(X,y,test_size = 0.2, random_state = 42)\n",
    "scaler = StandardScaler()\n",
    "X_train = scaler.fit_transform(X_train)\n",
    "X_test = scaler.transform(X_test)\n",
    "\n",
    "xgboost = xgb.XGBRegressor(n_estimators = 100, learning_rate = 0.1, max_depth = 3, random_state = 42)\n",
    "xgboost.fit(X_train, y_train)\n",
    "y_answer = xgboost.predict(X_test)\n",
    "mse = mean_squared_error(y_test, y_answer)\n",
    "print(f'모델의 MSE: {mse}')"
   ]
  },
  {
   "cell_type": "code",
   "execution_count": null,
   "id": "63c0fb43-0be5-4cfc-907b-26ac5fe8d0aa",
   "metadata": {},
   "outputs": [],
   "source": []
  }
 ],
 "metadata": {
  "kernelspec": {
   "display_name": "Python 3 (ipykernel)",
   "language": "python",
   "name": "python3"
  },
  "language_info": {
   "codemirror_mode": {
    "name": "ipython",
    "version": 3
   },
   "file_extension": ".py",
   "mimetype": "text/x-python",
   "name": "python",
   "nbconvert_exporter": "python",
   "pygments_lexer": "ipython3",
   "version": "3.12.7"
  }
 },
 "nbformat": 4,
 "nbformat_minor": 5
}
