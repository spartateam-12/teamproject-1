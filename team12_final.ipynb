{
 "cells": [
  {
   "cell_type": "markdown",
   "metadata": {},
   "source": [
    "<p style=\"font-size:18px; font-weight:bold;\">필수 과제 가이드</p>\n",
    "<p style=\"font-size:16px; font-weight:bold;\">타이타닉 생존자 예측</p>\n",
    "<p style=\"font-size:12px; font-weight:bold;\">주제</p>\n",
    "<p style=\"font-size:12px\">타이타닉 탑승객 데이터셋 활용해 생존자를 예측하는 모델을 만드는 프로젝트</p>\n",
    "<p style=\"font-size:12px; font-weight:bold;\">목표</p>\n",
    "<p style=\"font-size:12px\">다양한 모델을 통해서 생존자를 예측하는 모델을 학습시키는 것이 목표입니다. 과제는 순서대로 풀어주세요.</p>\n"
   ]
  },
  {
   "cell_type": "markdown",
   "metadata": {},
   "source": [
    "#### 1. 데이터 셋 불러오기\n",
    "- seaborn 라이브러리에 있는 titanic 데이터를 불러옵니다."
   ]
  },
  {
   "cell_type": "code",
   "execution_count": 34,
   "metadata": {},
   "outputs": [],
   "source": [
    "import pandas as pd\n",
    "import numpy as np\n",
    "import seaborn as sns"
   ]
  },
  {
   "cell_type": "code",
   "execution_count": 35,
   "metadata": {},
   "outputs": [],
   "source": [
    "from sklearn.model_selection import train_test_split\n",
    "from sklearn.preprocessing import StandardScaler\n",
    "from sklearn.linear_model import LogisticRegression\n",
    "from sklearn.metrics import accuracy_score, classification_report\n",
    "from sklearn.tree import DecisionTreeClassifier\n",
    "\n",
    "from sklearn.metrics import mean_squared_error, r2_score\n",
    "import xgboost as xgb"
   ]
  },
  {
   "cell_type": "code",
   "execution_count": 36,
   "metadata": {},
   "outputs": [],
   "source": [
    "import matplotlib.pyplot as plt"
   ]
  },
  {
   "cell_type": "code",
   "execution_count": 37,
   "metadata": {},
   "outputs": [],
   "source": [
    "titanic = sns.load_dataset('titanic')"
   ]
  },
  {
   "cell_type": "markdown",
   "metadata": {},
   "source": [
    "#### 2. feature 분석\n",
    "-    데이터를 잘 불러오셨다면 해당 데이터의 feature를 파악해야합니다. 데이터의 feature를 파악하기 위해 아래의 다양한 feature 분석을 수행해주세요. "
   ]
  },
  {
   "cell_type": "markdown",
   "metadata": {},
   "source": [
    "##### 2-1. head 함수를 이용해 데이터 프레임의 첫 5행을 출력하여 어떤 feature들이 있는지 확인해주세요. "
   ]
  },
  {
   "cell_type": "code",
   "execution_count": 38,
   "metadata": {},
   "outputs": [
    {
     "data": {
      "text/html": [
       "<div>\n",
       "<style scoped>\n",
       "    .dataframe tbody tr th:only-of-type {\n",
       "        vertical-align: middle;\n",
       "    }\n",
       "\n",
       "    .dataframe tbody tr th {\n",
       "        vertical-align: top;\n",
       "    }\n",
       "\n",
       "    .dataframe thead th {\n",
       "        text-align: right;\n",
       "    }\n",
       "</style>\n",
       "<table border=\"1\" class=\"dataframe\">\n",
       "  <thead>\n",
       "    <tr style=\"text-align: right;\">\n",
       "      <th></th>\n",
       "      <th>survived</th>\n",
       "      <th>pclass</th>\n",
       "      <th>sex</th>\n",
       "      <th>age</th>\n",
       "      <th>sibsp</th>\n",
       "      <th>parch</th>\n",
       "      <th>fare</th>\n",
       "      <th>embarked</th>\n",
       "      <th>class</th>\n",
       "      <th>who</th>\n",
       "      <th>adult_male</th>\n",
       "      <th>deck</th>\n",
       "      <th>embark_town</th>\n",
       "      <th>alive</th>\n",
       "      <th>alone</th>\n",
       "    </tr>\n",
       "  </thead>\n",
       "  <tbody>\n",
       "    <tr>\n",
       "      <th>0</th>\n",
       "      <td>0</td>\n",
       "      <td>3</td>\n",
       "      <td>male</td>\n",
       "      <td>22.0</td>\n",
       "      <td>1</td>\n",
       "      <td>0</td>\n",
       "      <td>7.2500</td>\n",
       "      <td>S</td>\n",
       "      <td>Third</td>\n",
       "      <td>man</td>\n",
       "      <td>True</td>\n",
       "      <td>NaN</td>\n",
       "      <td>Southampton</td>\n",
       "      <td>no</td>\n",
       "      <td>False</td>\n",
       "    </tr>\n",
       "    <tr>\n",
       "      <th>1</th>\n",
       "      <td>1</td>\n",
       "      <td>1</td>\n",
       "      <td>female</td>\n",
       "      <td>38.0</td>\n",
       "      <td>1</td>\n",
       "      <td>0</td>\n",
       "      <td>71.2833</td>\n",
       "      <td>C</td>\n",
       "      <td>First</td>\n",
       "      <td>woman</td>\n",
       "      <td>False</td>\n",
       "      <td>C</td>\n",
       "      <td>Cherbourg</td>\n",
       "      <td>yes</td>\n",
       "      <td>False</td>\n",
       "    </tr>\n",
       "    <tr>\n",
       "      <th>2</th>\n",
       "      <td>1</td>\n",
       "      <td>3</td>\n",
       "      <td>female</td>\n",
       "      <td>26.0</td>\n",
       "      <td>0</td>\n",
       "      <td>0</td>\n",
       "      <td>7.9250</td>\n",
       "      <td>S</td>\n",
       "      <td>Third</td>\n",
       "      <td>woman</td>\n",
       "      <td>False</td>\n",
       "      <td>NaN</td>\n",
       "      <td>Southampton</td>\n",
       "      <td>yes</td>\n",
       "      <td>True</td>\n",
       "    </tr>\n",
       "    <tr>\n",
       "      <th>3</th>\n",
       "      <td>1</td>\n",
       "      <td>1</td>\n",
       "      <td>female</td>\n",
       "      <td>35.0</td>\n",
       "      <td>1</td>\n",
       "      <td>0</td>\n",
       "      <td>53.1000</td>\n",
       "      <td>S</td>\n",
       "      <td>First</td>\n",
       "      <td>woman</td>\n",
       "      <td>False</td>\n",
       "      <td>C</td>\n",
       "      <td>Southampton</td>\n",
       "      <td>yes</td>\n",
       "      <td>False</td>\n",
       "    </tr>\n",
       "    <tr>\n",
       "      <th>4</th>\n",
       "      <td>0</td>\n",
       "      <td>3</td>\n",
       "      <td>male</td>\n",
       "      <td>35.0</td>\n",
       "      <td>0</td>\n",
       "      <td>0</td>\n",
       "      <td>8.0500</td>\n",
       "      <td>S</td>\n",
       "      <td>Third</td>\n",
       "      <td>man</td>\n",
       "      <td>True</td>\n",
       "      <td>NaN</td>\n",
       "      <td>Southampton</td>\n",
       "      <td>no</td>\n",
       "      <td>True</td>\n",
       "    </tr>\n",
       "  </tbody>\n",
       "</table>\n",
       "</div>"
      ],
      "text/plain": [
       "   survived  pclass     sex   age  sibsp  parch     fare embarked  class  \\\n",
       "0         0       3    male  22.0      1      0   7.2500        S  Third   \n",
       "1         1       1  female  38.0      1      0  71.2833        C  First   \n",
       "2         1       3  female  26.0      0      0   7.9250        S  Third   \n",
       "3         1       1  female  35.0      1      0  53.1000        S  First   \n",
       "4         0       3    male  35.0      0      0   8.0500        S  Third   \n",
       "\n",
       "     who  adult_male deck  embark_town alive  alone  \n",
       "0    man        True  NaN  Southampton    no  False  \n",
       "1  woman       False    C    Cherbourg   yes  False  \n",
       "2  woman       False  NaN  Southampton   yes   True  \n",
       "3  woman       False    C  Southampton   yes  False  \n",
       "4    man        True  NaN  Southampton    no   True  "
      ]
     },
     "execution_count": 38,
     "metadata": {},
     "output_type": "execute_result"
    }
   ],
   "source": [
    "titanic.head()"
   ]
  },
  {
   "cell_type": "markdown",
   "metadata": {},
   "source": [
    "##### 2-2. describe 함수를 통해서 기본적인 통계를 확인해주세요."
   ]
  },
  {
   "cell_type": "code",
   "execution_count": 39,
   "metadata": {},
   "outputs": [
    {
     "data": {
      "text/html": [
       "<div>\n",
       "<style scoped>\n",
       "    .dataframe tbody tr th:only-of-type {\n",
       "        vertical-align: middle;\n",
       "    }\n",
       "\n",
       "    .dataframe tbody tr th {\n",
       "        vertical-align: top;\n",
       "    }\n",
       "\n",
       "    .dataframe thead th {\n",
       "        text-align: right;\n",
       "    }\n",
       "</style>\n",
       "<table border=\"1\" class=\"dataframe\">\n",
       "  <thead>\n",
       "    <tr style=\"text-align: right;\">\n",
       "      <th></th>\n",
       "      <th>survived</th>\n",
       "      <th>pclass</th>\n",
       "      <th>age</th>\n",
       "      <th>sibsp</th>\n",
       "      <th>parch</th>\n",
       "      <th>fare</th>\n",
       "    </tr>\n",
       "  </thead>\n",
       "  <tbody>\n",
       "    <tr>\n",
       "      <th>count</th>\n",
       "      <td>891.000000</td>\n",
       "      <td>891.000000</td>\n",
       "      <td>714.000000</td>\n",
       "      <td>891.000000</td>\n",
       "      <td>891.000000</td>\n",
       "      <td>891.000000</td>\n",
       "    </tr>\n",
       "    <tr>\n",
       "      <th>mean</th>\n",
       "      <td>0.383838</td>\n",
       "      <td>2.308642</td>\n",
       "      <td>29.699118</td>\n",
       "      <td>0.523008</td>\n",
       "      <td>0.381594</td>\n",
       "      <td>32.204208</td>\n",
       "    </tr>\n",
       "    <tr>\n",
       "      <th>std</th>\n",
       "      <td>0.486592</td>\n",
       "      <td>0.836071</td>\n",
       "      <td>14.526497</td>\n",
       "      <td>1.102743</td>\n",
       "      <td>0.806057</td>\n",
       "      <td>49.693429</td>\n",
       "    </tr>\n",
       "    <tr>\n",
       "      <th>min</th>\n",
       "      <td>0.000000</td>\n",
       "      <td>1.000000</td>\n",
       "      <td>0.420000</td>\n",
       "      <td>0.000000</td>\n",
       "      <td>0.000000</td>\n",
       "      <td>0.000000</td>\n",
       "    </tr>\n",
       "    <tr>\n",
       "      <th>25%</th>\n",
       "      <td>0.000000</td>\n",
       "      <td>2.000000</td>\n",
       "      <td>20.125000</td>\n",
       "      <td>0.000000</td>\n",
       "      <td>0.000000</td>\n",
       "      <td>7.910400</td>\n",
       "    </tr>\n",
       "    <tr>\n",
       "      <th>50%</th>\n",
       "      <td>0.000000</td>\n",
       "      <td>3.000000</td>\n",
       "      <td>28.000000</td>\n",
       "      <td>0.000000</td>\n",
       "      <td>0.000000</td>\n",
       "      <td>14.454200</td>\n",
       "    </tr>\n",
       "    <tr>\n",
       "      <th>75%</th>\n",
       "      <td>1.000000</td>\n",
       "      <td>3.000000</td>\n",
       "      <td>38.000000</td>\n",
       "      <td>1.000000</td>\n",
       "      <td>0.000000</td>\n",
       "      <td>31.000000</td>\n",
       "    </tr>\n",
       "    <tr>\n",
       "      <th>max</th>\n",
       "      <td>1.000000</td>\n",
       "      <td>3.000000</td>\n",
       "      <td>80.000000</td>\n",
       "      <td>8.000000</td>\n",
       "      <td>6.000000</td>\n",
       "      <td>512.329200</td>\n",
       "    </tr>\n",
       "  </tbody>\n",
       "</table>\n",
       "</div>"
      ],
      "text/plain": [
       "         survived      pclass         age       sibsp       parch        fare\n",
       "count  891.000000  891.000000  714.000000  891.000000  891.000000  891.000000\n",
       "mean     0.383838    2.308642   29.699118    0.523008    0.381594   32.204208\n",
       "std      0.486592    0.836071   14.526497    1.102743    0.806057   49.693429\n",
       "min      0.000000    1.000000    0.420000    0.000000    0.000000    0.000000\n",
       "25%      0.000000    2.000000   20.125000    0.000000    0.000000    7.910400\n",
       "50%      0.000000    3.000000   28.000000    0.000000    0.000000   14.454200\n",
       "75%      1.000000    3.000000   38.000000    1.000000    0.000000   31.000000\n",
       "max      1.000000    3.000000   80.000000    8.000000    6.000000  512.329200"
      ]
     },
     "execution_count": 39,
     "metadata": {},
     "output_type": "execute_result"
    }
   ],
   "source": [
    "titanic.describe()"
   ]
  },
  {
   "cell_type": "markdown",
   "metadata": {},
   "source": [
    "##### 2-3. describe 함수를 통해 확인할 수 있는 count, std, min, 25%, 50%, 75%, max 가 각각 무슨 뜻인지 주석 혹은 markdown 블록으로 간단히 설명해주세요."
   ]
  },
  {
   "cell_type": "markdown",
   "metadata": {},
   "source": [
    "- **count:** 결측치(NaN)가 제거된 데이터의 수\n",
    "- **std:** 표준편차. 데이터의 흩어짐을 나타냄, 이 값이 클수록 데이터가 넓게 퍼져있다\n",
    "- **min:** 데이터에서 열의 최솟값\n",
    "- **25%:** 1사분위 수. 데이터의 하위 25% 값\n",
    "- **50%:** 데이터의 중앙 값\n",
    "- **75%:** 3사분위 수. 데이터의 상위 25% 값\n",
    "- **max:** 데이터에서 열의 최대 값"
   ]
  },
  {
   "cell_type": "markdown",
   "metadata": {},
   "source": [
    "[추가 설명: 뒤에 이 자료를 토대로 한 그래프가 나옴]\n",
    "- **survived**는 사망자(0) 생존자(1)로 표시되어 있다. titanic.describe()을 통한 survived를 보면 승객 중 절반 이상은 사망하였고, 전체 승객의 상위 25%는 생존했음을 알 수 있다.\n",
    "- **pclass**는 승객의 좌석 등급을 나타내는 변수이다. 이 변수는 1(1등석) / 2(2등석) / 3(3등석)으로 구성 되어 있다. \n",
    "- **sibsp:** 형제자매 및 배우자의 수 이다.\n",
    "- **parch** 부모 및 자녀의 수 이다.\n",
    "- **fare:** 운임 요금이다.\n"
   ]
  },
  {
   "cell_type": "markdown",
   "metadata": {},
   "source": [
    "##### 2-4. isnull() 함수와 sum() 함수를 이용해 각 열의 결측치 갯수를 확인해주세요."
   ]
  },
  {
   "cell_type": "code",
   "execution_count": 40,
   "metadata": {},
   "outputs": [
    {
     "data": {
      "text/plain": [
       "survived         0\n",
       "pclass           0\n",
       "sex              0\n",
       "age            177\n",
       "sibsp            0\n",
       "parch            0\n",
       "fare             0\n",
       "embarked         2\n",
       "class            0\n",
       "who              0\n",
       "adult_male       0\n",
       "deck           688\n",
       "embark_town      2\n",
       "alive            0\n",
       "alone            0\n",
       "dtype: int64"
      ]
     },
     "execution_count": 40,
     "metadata": {},
     "output_type": "execute_result"
    }
   ],
   "source": [
    "titanic.isnull().sum()"
   ]
  },
  {
   "cell_type": "markdown",
   "metadata": {},
   "source": [
    "**설명:** age는 결측치가 177개, deck은 688개, embark_town은 2개이다. 유독 deck의 결측치가 많은 이유는 데이터 수집 과정에서 당시 티켓에 deck(승객이 탑승한 선실의 갑판)의 정보가 기록되지 않은 경우가 많기 때문이다."
   ]
  },
  {
   "cell_type": "markdown",
   "metadata": {},
   "source": [
    "#### 3. feature engineering\n",
    "-    feature engineering은 모델의 성능을 향상시키기 위해 중요한 단계입니다. 2번 feature 분석에서 얻은 데이터에 대한 이해를 바탕으로 아래의 feature engineering을 수행해주세요. "
   ]
  },
  {
   "cell_type": "markdown",
   "metadata": {},
   "source": [
    "##### 3-1. 결측치 처리\n",
    "- Age(나이)의 결측치는 중앙값으로, Embarked(승선 항구)의 결측치는 최빈값으로 대체해주세요. \n",
    "- 모두 대체한 후에, 대체 결과를 isnull() 함수와 sum()  함수를 이용해서 확인해주세요. "
   ]
  },
  {
   "cell_type": "code",
   "execution_count": 41,
   "metadata": {},
   "outputs": [
    {
     "name": "stdout",
     "output_type": "stream",
     "text": [
      "0\n",
      "0\n"
     ]
    }
   ],
   "source": [
    "#수치형 데이터의 중앙값을 계산 혹은 반환해주는 .median()사용\n",
    "#계산된 중앙값을 fillna를 사용 대체, inplace = True로 변경된 값 바로 저장\n",
    "titanic_age = titanic['age'].median()\n",
    "titanic['age'].fillna(titanic_age, inplace = True)\n",
    "\n",
    "#최빈값을 계산 혹은 반환해주는 .mode 사용.(리스트로 반환하기 때문에 첫번째 값인 [0]을 사용)\n",
    "#계산된 최빈값을 fillna를 사용해 대체, inplace = True로 변경된 값 바로 저장\n",
    "titanic_embarked = titanic['embarked'].mode()[0]\n",
    "titanic['embarked'].fillna(titanic_embarked, inplace = True)\n",
    "\n",
    "#대체 결과 확인\n",
    "print(titanic['age'].isnull().sum())\n",
    "print(titanic['embarked'].isnull().sum())"
   ]
  },
  {
   "cell_type": "markdown",
   "metadata": {},
   "source": [
    "##### 3-2. 수치형으로 인코딩\n",
    "- Sex(성별)를 남자는 0, 여자는 1로 변환해주세요. \n",
    "- alive(생존여부)를 yes는 1, no는 0으로 변환해주세요. \n",
    "- Embarked(승선 항구)는 ‘C’는 0으로, Q는 1으로, ‘S’는 2로 변환해주세요. 모두 변환한 후에, 변환 결과를 head 함수를 이용해 확인해주세요. "
   ]
  },
  {
   "cell_type": "code",
   "execution_count": 42,
   "metadata": {},
   "outputs": [
    {
     "name": "stdout",
     "output_type": "stream",
     "text": [
      "0    0\n",
      "1    1\n",
      "2    1\n",
      "3    1\n",
      "4    0\n",
      "Name: sex, dtype: int64\n",
      "0    0\n",
      "1    1\n",
      "2    1\n",
      "3    1\n",
      "4    0\n",
      "Name: alive, dtype: int64\n",
      "0    2\n",
      "1    0\n",
      "2    2\n",
      "3    2\n",
      "4    2\n",
      "Name: embarked, dtype: int64\n"
     ]
    }
   ],
   "source": [
    "#삼항 연산자(ternary operator) 구조에 기인하여, 값1 if 조건 else 값2으로 lambda 함수 생성 및 값 조정\n",
    "titanic['sex'] = titanic['sex'].apply(lambda x : 0 if x == \"male\" else 1)\n",
    "titanic['alive'] = titanic['alive'].apply(lambda x: 1 if x == 'yes' else 0)\n",
    "titanic['embarked'] = titanic['embarked'].apply(lambda x:0 if x == 'C' else (1 if x == 'Q' else 2))\n",
    "\n",
    "#출력 .head()\n",
    "print(titanic['sex'].head())\n",
    "print(titanic['alive'].head())\n",
    "print(titanic['embarked'].head())"
   ]
  },
  {
   "cell_type": "markdown",
   "metadata": {},
   "source": [
    "##### 3-3. 새로운 feature 생성\n",
    "- SibSip(타이타닉호에 동승한 자매 및 배우자의 수), Parch(타이타닉호에 동승한 부모 및 자식의 수)를 통해서 family_size(가족크기)를 생성해주세요.\n",
    "- 새로운 feature를 head 함수를 이용해 확인해주세요."
   ]
  },
  {
   "cell_type": "code",
   "execution_count": 43,
   "metadata": {},
   "outputs": [
    {
     "name": "stdout",
     "output_type": "stream",
     "text": [
      "0    2\n",
      "1    2\n",
      "2    1\n",
      "3    2\n",
      "4    1\n",
      "Name: family_size, dtype: int64\n"
     ]
    }
   ],
   "source": [
    "titanic['family_size'] = titanic['sibsp'] + titanic['parch'] + 1 # +1은 '나'\n",
    "#family_size 는 나 + 배우자,형제자매 + 부모,자식 수의 총 합\n",
    "\n",
    "print(titanic['family_size'].head())"
   ]
  },
  {
   "cell_type": "markdown",
   "metadata": {},
   "source": [
    "#### 4. 모델 학습시키기 (Logistic Regression, Random Forest, XGBoost)"
   ]
  },
  {
   "cell_type": "markdown",
   "metadata": {},
   "source": [
    "##### 4-1. 모델 학습 준비\n",
    "- 이제 모델을 학습시키기 위한 데이터를 준비하겠습니다.\n",
    "- 학습에 필요한 feature은 'survived', 'pclass', 'sex', 'age', 'sibsp', 'parch', 'fare', 'embarked', ‘family_size’ 입니다.\n",
    "- feature과 target을 분리해주세요.  그 다음 데이터 스케일링을 진행해주세요. \n"
   ]
  },
  {
   "cell_type": "code",
   "execution_count": 44,
   "metadata": {},
   "outputs": [],
   "source": [
    "titanic = titanic[['survived', 'pclass', 'sex', 'age', 'sibsp', 'parch', 'fare', 'embarked', 'family_size']]\n",
    "X = titanic.drop('survived', axis=1) # feature #.drop()으로 survived 열을 뺌\n",
    "y = titanic['survived'] # target"
   ]
  },
  {
   "cell_type": "markdown",
   "metadata": {},
   "source": [
    "- 이제 **Logistic Regression, Random Forest, XGBoost를 통해서 생존자를 예측하는 모델**을 학습하세요. \n",
    "- 학습이 끝난 뒤 **Logistic Regression과 Random Forest는 모델 accuracy**를 통해, **XGBoost는 mean squared error**를 통해 test data를 예측하세요. "
   ]
  },
  {
   "cell_type": "markdown",
   "metadata": {},
   "source": [
    "##### 4-2. Logistic Regression"
   ]
  },
  {
   "cell_type": "code",
   "execution_count": 45,
   "metadata": {},
   "outputs": [
    {
     "name": "stdout",
     "output_type": "stream",
     "text": [
      "Best accuracy: 0.8603351955307262, Best state: 18\n",
      "Classification Report: \n",
      "              precision    recall  f1-score   support\n",
      "\n",
      "           0       0.79      0.82      0.81       113\n",
      "           1       0.67      0.62      0.65        66\n",
      "\n",
      "    accuracy                           0.75       179\n",
      "   macro avg       0.73      0.72      0.73       179\n",
      "weighted avg       0.75      0.75      0.75       179\n",
      "\n"
     ]
    }
   ],
   "source": [
    "# Logistic Regression: Best accuracy 찾기\n",
    "best_accuracy = 0\n",
    "best_state = 0\n",
    "best_model = None  # 가장 성능 좋은 모델을 저장할 변수\n",
    "\n",
    "for x in range(100):\n",
    "    X_train, X_test, y_train, y_test = train_test_split(X, y, test_size=0.2, random_state=x)\n",
    "    scaler = StandardScaler()\n",
    "    X_train = scaler.fit_transform(X_train)\n",
    "    X_test = scaler.transform(X_test)\n",
    "\n",
    "    logi = LogisticRegression()\n",
    "    logi.fit(X_train, y_train)\n",
    "\n",
    "    y_answer = logi.predict(X_test)\n",
    "    accuracy = accuracy_score(y_test, y_answer)\n",
    "\n",
    "    if accuracy > best_accuracy:\n",
    "        best_accuracy = accuracy\n",
    "        best_state = x\n",
    "        best_model = logi  # 현재 모델을 가장 성능 좋은 모델로 저장\n",
    "\n",
    "print(f'Best accuracy: {best_accuracy}, Best state: {best_state}')\n",
    "print(f'Classification Report: \\n{classification_report(y_test, y_answer)}')"
   ]
  },
  {
   "cell_type": "code",
   "execution_count": 46,
   "metadata": {},
   "outputs": [
    {
     "name": "stdout",
     "output_type": "stream",
     "text": [
      "Mean Squared Error: 0.25139664804469275\n",
      "r2score: -0.08004827031375683\n"
     ]
    }
   ],
   "source": [
    "#그냥 넣고싶었던 것\n",
    "mse = mean_squared_error(y_test, y_answer)\n",
    "r2 = r2_score(y_test, y_answer)\n",
    "print(f'Mean Squared Error: {mse}')\n",
    "print(f'r2score: {r2}')"
   ]
  },
  {
   "cell_type": "code",
   "execution_count": 47,
   "metadata": {},
   "outputs": [
    {
     "data": {
      "image/png": "[encoded data removed]",
      "text/plain": [
       "<Figure size 1000x600 with 1 Axes>"
      ]
     },
     "metadata": {},
     "output_type": "display_data"
    }
   ],
   "source": [
    "import matplotlib.pyplot as plt\n",
    "\n",
    "# 회귀 계수(coefficient) 추출 및 시각화\n",
    "coefficients = best_model.coef_[0]  # 가장 좋은 모델의 회귀 계수 추출\n",
    "\n",
    "# 변수명과 회귀 계수를 데이터프레임으로 정리\n",
    "feature_importances = pd.DataFrame({'Feature': X.columns, 'Coefficient': coefficients})\n",
    "feature_importances = feature_importances.sort_values(by='Coefficient', ascending=False)\n",
    "\n",
    "# 중요도 시각화\n",
    "plt.figure(figsize=(10, 6))\n",
    "bars = plt.barh(feature_importances['Feature'], feature_importances['Coefficient'])\n",
    "plt.xlabel('Coefficient')\n",
    "plt.title('Feature Importances in Logistic Regression Model')\n",
    "plt.gca().invert_yaxis()  # 중요도 높은 순으로 보기 위해 축 반전\n",
    "\n",
    "# 각 막대에 숫자 추가\n",
    "for bar in bars:\n",
    "    plt.text(bar.get_width(), bar.get_y() + bar.get_height()/2, f'{bar.get_width():.2f}', va='center')\n",
    "\n",
    "plt.show()"
   ]
  },
  {
   "cell_type": "markdown",
   "metadata": {},
   "source": [
    "**해석**\n",
    "\n",
    "**로지스틱 회귀 모델에서의 변수 중요도 분석**\n",
    "\n",
    "이번 분석에서는 로지스틱 회귀 모델에서 각 변수의 중요도를 회귀 계수(Coefficient)를 통해 시각화하였습니다. 양의 회귀 계수는 변수와 종속 변수 간의 양의 상관관계를, 음의 회귀 계수는 음의 상관관계를 의미합니다.\n",
    "\n",
    "**그래프에서 관찰할 수 있는 주요 사항은 다음과 같습니다:**\n",
    "\n",
    "**1. Sex(성별):** 성별 변수는 가장 큰 possitive coefficent를 가지며, 그 중 여성('여성'이 1로 인코딩 되어있음)이 생존할 가능성이 남성보다 높음을 나타냅니다. 따라서 성별이 생존률에 중요한 영향을 미치는 변수임을 알 수 있습니다.\n",
    "\n",
    "**2. Pclass (객실 등급):** 객실 등급 변수는 높은 negative coefficient(-0.82)를 가지고 있습니다. 여기서 negative coefficient가 의미하는 것은, **숫자가 작을수록 높은 등급**을 나타낸다는 점 입니다(1등석, 2등석, 3등석). 즉, 객실 등급이 1등석(가장 높은 등급)일 때 생존률이 더 높아짐을 나타냅니다. 이 결과는 1등석 승객들이 상대적으로 더 높은 생존률을 가졌음을 시사합니다.\n",
    "\n",
    "**3. Age(나이):** 나이는 -0.39의 계수를 가지며, 이는 연령이 증가할 수록 생존률에 부정적인 영향을 미친다고 할 수 있습니다. \n"
   ]
  },
  {
   "cell_type": "markdown",
   "metadata": {},
   "source": [
    "##### 4-3. Decision Tree"
   ]
  },
  {
   "cell_type": "code",
   "execution_count": 48,
   "metadata": {},
   "outputs": [
    {
     "name": "stdout",
     "output_type": "stream",
     "text": [
      "Best accuracy: 0.8777777777777778\n",
      "Best test size: 0.1\n",
      "Best state: 72\n"
     ]
    }
   ],
   "source": [
    "#이번에는 다르게 줘봤습니다. for을 하나 더 써서 최적의 test size와 그에 상응하는 random state를 찾아 최고의 정확도를  찾아내는 것이 목표입니다.\n",
    "# Decision Tree: Best accuracy 찾기\n",
    "best_accuracy = 0\n",
    "best_state = 0\n",
    "best_test_size = 0\n",
    "best_model = None  # 가장 성능 좋은 모델을 저장할 변수\n",
    "\n",
    "for test_size in np.arange(0.1, 1, 0.05):\n",
    "    for x in range(100):\n",
    "        X_train, X_test, y_train, y_test = train_test_split(X, y, test_size=test_size, random_state=x)\n",
    "        scaler = StandardScaler()\n",
    "        X_train = scaler.fit_transform(X_train)\n",
    "        X_test = scaler.transform(X_test)\n",
    "\n",
    "        tree = DecisionTreeClassifier(random_state=x)\n",
    "        tree.fit(X_train, y_train)\n",
    "\n",
    "        y_answer = tree.predict(X_test)\n",
    "        accuracy = accuracy_score(y_test, y_answer)\n",
    "\n",
    "        if accuracy > best_accuracy:\n",
    "            best_accuracy = accuracy\n",
    "            best_test_size = test_size\n",
    "            best_state = x\n",
    "            best_model = tree  # 가장 성능 좋은 모델을 저장\n",
    "\n",
    "# 평가\n",
    "print(f'Best accuracy: {best_accuracy}')\n",
    "print(f'Best test size: {best_test_size}')\n",
    "print(f'Best state: {best_state}')"
   ]
  },
  {
   "cell_type": "code",
   "execution_count": 49,
   "metadata": {},
   "outputs": [
    {
     "data": {
      "image/png": "[encoded data removed]",
      "text/plain": [
       "<Figure size 1200x600 with 1 Axes>"
      ]
     },
     "metadata": {},
     "output_type": "display_data"
    }
   ],
   "source": [
    "# 변수 중요도 추출 및 시각화\n",
    "feature_importances = best_model.feature_importances_\n",
    "\n",
    "# 변수명과 중요도를 데이터프레임으로 정리\n",
    "importance_df = pd.DataFrame({'Feature': X.columns, 'Importance': feature_importances})\n",
    "importance_df = importance_df.sort_values(by='Importance', ascending=False)\n",
    "\n",
    "# 중요도 시각화\n",
    "plt.figure(figsize=(12, 6))\n",
    "plt.barh(importance_df['Feature'], importance_df['Importance'])\n",
    "plt.xlabel('Importance')\n",
    "plt.title('Feature Importances in Decision Tree Model')\n",
    "plt.gca().invert_yaxis()  # 중요도가 높은 순으로 보기 위해 축 반전\n",
    "plt.show()"
   ]
  },
  {
   "cell_type": "markdown",
   "metadata": {},
   "source": [
    "##### 4-4. XGBoost"
   ]
  },
  {
   "cell_type": "code",
   "execution_count": 50,
   "metadata": {},
   "outputs": [
    {
     "name": "stdout",
     "output_type": "stream",
     "text": [
      "XGBoost 모델의 MSE: 0.12981004899201257\n"
     ]
    }
   ],
   "source": [
    "# 데이터 분할\n",
    "X_train, X_test, y_train, y_test = train_test_split(X, y, test_size=0.2, random_state=42)\n",
    "\n",
    "# 데이터 스케일링\n",
    "scaler = StandardScaler()\n",
    "X_train_scaled = scaler.fit_transform(X_train)\n",
    "X_test_scaled = scaler.transform(X_test)\n",
    "\n",
    "# XGBoost 모델 생성\n",
    "xgb_model = xgb.XGBRegressor(n_estimators=100, learning_rate=0.1, max_depth=3, seed=42)  # random_state 대신 seed 사용\n",
    "\n",
    "# 모델 학습\n",
    "xgb_model.fit(X_train_scaled, y_train)\n",
    "\n",
    "# 예측\n",
    "y_pred_xgb = xgb_model.predict(X_test_scaled)\n",
    "\n",
    "# 평가\n",
    "mse_xgb = mean_squared_error(y_test, y_pred_xgb)\n",
    "print(f'XGBoost 모델의 MSE: {mse_xgb}')"
   ]
  },
  {
   "cell_type": "code",
   "execution_count": 51,
   "metadata": {},
   "outputs": [
    {
     "data": {
      "image/png": "[encoded data removed]",
      "text/plain": [
       "<Figure size 1000x600 with 1 Axes>"
      ]
     },
     "metadata": {},
     "output_type": "display_data"
    }
   ],
   "source": [
    "# 각 변수의 중요도 추출\n",
    "importances = xgb_model.feature_importances_\n",
    "\n",
    "# 변수명과 중요도를 데이터프레임으로 정리\n",
    "feature_importances = pd.DataFrame({'Feature': X.columns, 'Importance': importances})\n",
    "feature_importances = feature_importances.sort_values(by='Importance', ascending=False)\n",
    "\n",
    "# 중요도 시각화\n",
    "plt.figure(figsize=(10, 6))\n",
    "plt.barh(feature_importances['Feature'], feature_importances['Importance'])\n",
    "plt.xlabel('Importance')\n",
    "plt.title('Feature Importances in XGBoost Model')\n",
    "plt.gca().invert_yaxis()  # 중요도 높은 순으로 보기 위해 축 반전\n",
    "plt.show()"
   ]
  }
 ],
 "metadata": {
  "kernelspec": {
   "display_name": "DLenv",
   "language": "python",
   "name": "python3"
  },
  "language_info": {
   "codemirror_mode": {
    "name": "ipython",
    "version": 3
   },
   "file_extension": ".py",
   "mimetype": "text/x-python",
   "name": "python",
   "nbconvert_exporter": "python",
   "pygments_lexer": "ipython3",
   "version": "3.8.18"
  }
 },
 "nbformat": 4,
 "nbformat_minor": 2
}
